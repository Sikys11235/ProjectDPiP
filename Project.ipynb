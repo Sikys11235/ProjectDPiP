{
 "cells": [
  {
   "cell_type": "code",
   "execution_count": 1,
   "metadata": {},
   "outputs": [
    {
     "name": "stdout",
     "output_type": "stream",
     "text": [
      "ok\n"
     ]
    }
   ],
   "source": [
    "print(\"ok\")"
   ]
  },
  {
   "cell_type": "markdown",
   "metadata": {},
   "source": []
  },
  {
   "attachments": {},
   "cell_type": "markdown",
   "metadata": {},
   "source": [
    "API Download"
   ]
  },
  {
   "cell_type": "code",
   "execution_count": 2,
   "metadata": {},
   "outputs": [
    {
     "name": "stdout",
     "output_type": "stream",
     "text": [
      "Defaulting to user installation because normal site-packages is not writeable\n",
      "Requirement already satisfied: requests in /Users/vojtechsikl/Library/Python/3.9/lib/python/site-packages (2.28.2)\n",
      "Requirement already satisfied: certifi>=2017.4.17 in /Users/vojtechsikl/Library/Python/3.9/lib/python/site-packages (from requests) (2022.12.7)\n",
      "Requirement already satisfied: charset-normalizer<4,>=2 in /Users/vojtechsikl/Library/Python/3.9/lib/python/site-packages (from requests) (3.1.0)\n",
      "Requirement already satisfied: idna<4,>=2.5 in /Users/vojtechsikl/Library/Python/3.9/lib/python/site-packages (from requests) (3.4)\n",
      "Requirement already satisfied: urllib3<1.27,>=1.21.1 in /Users/vojtechsikl/Library/Python/3.9/lib/python/site-packages (from requests) (1.26.15)\n",
      "\u001b[33mWARNING: You are using pip version 21.2.4; however, version 23.1.2 is available.\n",
      "You should consider upgrading via the '/Library/Developer/CommandLineTools/usr/bin/python3 -m pip install --upgrade pip' command.\u001b[0m\n",
      "Note: you may need to restart the kernel to use updated packages.\n"
     ]
    }
   ],
   "source": [
    "pip install requests\n"
   ]
  },
  {
   "cell_type": "code",
   "execution_count": 3,
   "metadata": {},
   "outputs": [],
   "source": [
    "import requests\n",
    "import pandas as pd\n",
    "from io import StringIO"
   ]
  },
  {
   "attachments": {},
   "cell_type": "markdown",
   "metadata": {},
   "source": [
    "end date by mohl být dnešek\n",
    "start date fix\n",
    "fool-proof input \n",
    "###### \n",
    "Vyzkoušet si to na training data\n",
    "Vybrat si ML model\n",
    "Jak vizualizace?\n",
    "#########\n",
    "přidat config a dokumentaci\n",
    "další soubory\n",
    "\n",
    "\n"
   ]
  },
  {
   "attachments": {},
   "cell_type": "markdown",
   "metadata": {},
   "source": [
    "Apple (AAPL): 7.28%\n",
    "Microsoft (MSFT): 6.60%\n",
    "Amazon (AMZN): 2.68%\n",
    "NVIDIA (NVDA): 2.02%\n",
    "Alphabet Class A (GOOGL): 1.82%\n",
    "Berkshire Hathaway (BRK.B): 1.70%\n",
    "Alphabet Class C (GOOG): 1.60%\n",
    "Meta (META), formerly Facebook, Class A: 1.55%\n",
    "UnitedHealth Group (UNH): 1.34%\n",
    "Exxon Mobil (XOM): 1.32%\n",
    "Johnson & Johnson (JNJ): 1.25%\n",
    "Tesla (TSLA): 1.25%\n",
    "JPMorgan Chase (JPM): 1.18%\n",
    "Procter & Gamble (PG): 1.07%\n",
    "Visa Class A (V): 1.07%\n",
    "Eli Lilly (LLY): 0.93%\n",
    "Mastercard Class A (MA): 0.92%\n",
    "Home Depot (HD): 0.87%\n",
    "Merck (MRK): 0.87%\n",
    "Chevron Corporation (CVX): 0.83%\n",
    "AbbVie (ABBV): 0.78%\n",
    "PepsiCo (PEP): 0.77%\n",
    "Broadcom (AVGO): 0.74%\n",
    "Coca-Cola Company (KO): 0.72%\n",
    "Costco (COST): 0.64%"
   ]
  },
  {
   "cell_type": "code",
   "execution_count": 9,
   "metadata": {},
   "outputs": [],
   "source": [
    "popular_stocks = {\n",
    "    'AAPL': 'Apple Inc.',\n",
    "    'MSFT': 'Microsoft Corporation',\n",
    "    'AMZN': 'Amazon.com, Inc.',\n",
    "    'GOOGL': 'Alphabet Inc.',\n",
    "    'FB': 'Facebook, Inc.',\n",
    "    'BRK-B': 'Berkshire Hathaway Inc.',\n",
    "    'V': 'Visa Inc.',\n",
    "    'TSLA': 'Tesla, Inc.',\n",
    "    'JPM': 'JPMorgan Chase & Co.',\n",
    "    'JNJ': 'Johnson & Johnson',\n",
    "    \"PG\" : \"Procter and Gamble\",\n",
    "    \"MA\" : \"Mastercard Class A\",\n",
    "    \"MRK\" : \"Merck\",\n",
    "    \"KO\" : \"Coca-Cola Company\",\n",
    "    \"NVDA\" :\"NVIDIA\"\n",
    "    \n",
    "}"
   ]
  },
  {
   "cell_type": "code",
   "execution_count": 6,
   "metadata": {},
   "outputs": [],
   "source": [
    "def download_stock_data(ticker, start_date, end_date):\n",
    "    base_url = \"https://query1.finance.yahoo.com/v7/finance/download/\"\n",
    "    start_date_timestamp = int(pd.Timestamp(start_date).timestamp())\n",
    "    end_date_timestamp = int(pd.Timestamp(end_date).timestamp())\n",
    "    params = {\n",
    "        'period1': start_date_timestamp,\n",
    "        'period2': end_date_timestamp,\n",
    "        'interval': '1d',\n",
    "        'events': 'history',\n",
    "        'includeAdjustedClose': 'true'\n",
    "    }\n",
    "    \n",
    "    url = f\"{base_url}{ticker}\"\n",
    "    response = requests.get(url, params=params)\n",
    "\n",
    "    if response.status_code == 200:\n",
    "        stock_data = pd.read_csv(StringIO(response.text))\n",
    "        return stock_data\n",
    "    else:\n",
    "        print(\"Error fetching data:\", response.status_code)\n",
    "        return None\n",
    "\n"
   ]
  },
  {
   "cell_type": "code",
   "execution_count": 10,
   "metadata": {},
   "outputs": [
    {
     "name": "stdout",
     "output_type": "stream",
     "text": [
      "Popular stock tickers:\n",
      "AAPL: Apple Inc.\n",
      "MSFT: Microsoft Corporation\n",
      "AMZN: Amazon.com, Inc.\n",
      "GOOGL: Alphabet Inc.\n",
      "FB: Facebook, Inc.\n",
      "BRK-B: Berkshire Hathaway Inc.\n",
      "V: Visa Inc.\n",
      "TSLA: Tesla, Inc.\n",
      "JPM: JPMorgan Chase & Co.\n",
      "JNJ: Johnson & Johnson\n",
      "PG: Procter and Gamble\n",
      "MA: Mastercard Class A\n",
      "MRK: Merck\n",
      "KO: Coca-Cola Company\n",
      "NVDA: NVIDIA\n"
     ]
    }
   ],
   "source": [
    "print(\"Popular stock tickers:\")\n",
    "for ticker, company in popular_stocks.items():\n",
    "    print(f\"{ticker}: {company}\")\n"
   ]
  },
  {
   "cell_type": "code",
   "execution_count": 11,
   "metadata": {},
   "outputs": [
    {
     "name": "stdout",
     "output_type": "stream",
     "text": [
      "Error fetching data: 403\n",
      "None\n"
     ]
    }
   ],
   "source": [
    "ticker = input(\"Enter the stock ticker from the list above: \")\n",
    "end_date = input(\"Enter the end date (YYYY-MM-DD): \")\n",
    "\n",
    "# Validate the ticker input\n",
    "if ticker not in popular_stocks:\n",
    "    print(\"Error: Invalid ticker. Please choose a ticker from the list of popular stocks.\")\n",
    "else:\n",
    "    # Set the start date to January 1, 1995\n",
    "    start_date = \"1995-01-01\"\n",
    "\n",
    "    stock_data = download_stock_data(ticker, start_date, end_date)\n",
    "    print(stock_data)\n"
   ]
  },
  {
   "cell_type": "code",
   "execution_count": null,
   "metadata": {},
   "outputs": [],
   "source": []
  },
  {
   "attachments": {},
   "cell_type": "markdown",
   "metadata": {},
   "source": [
    "#######################\n",
    "Yfinance"
   ]
  },
  {
   "cell_type": "code",
   "execution_count": 12,
   "metadata": {},
   "outputs": [
    {
     "name": "stdout",
     "output_type": "stream",
     "text": [
      "Defaulting to user installation because normal site-packages is not writeable\n",
      "Collecting yfinance\n",
      "  Downloading yfinance-0.2.18-py2.py3-none-any.whl (60 kB)\n",
      "\u001b[K     |████████████████████████████████| 60 kB 1.8 MB/s eta 0:00:01\n",
      "\u001b[?25hRequirement already satisfied: pytz>=2022.5 in /Users/vojtechsikl/Library/Python/3.9/lib/python/site-packages (from yfinance) (2022.7.1)\n",
      "Requirement already satisfied: pandas>=1.3.0 in /Users/vojtechsikl/Library/Python/3.9/lib/python/site-packages (from yfinance) (1.5.3)\n",
      "Requirement already satisfied: numpy>=1.16.5 in /Users/vojtechsikl/Library/Python/3.9/lib/python/site-packages (from yfinance) (1.24.2)\n",
      "Collecting appdirs>=1.4.4\n",
      "  Downloading appdirs-1.4.4-py2.py3-none-any.whl (9.6 kB)\n",
      "Collecting multitasking>=0.0.7\n",
      "  Downloading multitasking-0.0.11-py3-none-any.whl (8.5 kB)\n",
      "Collecting beautifulsoup4>=4.11.1\n",
      "  Downloading beautifulsoup4-4.12.2-py3-none-any.whl (142 kB)\n",
      "\u001b[K     |████████████████████████████████| 142 kB 2.0 MB/s eta 0:00:01\n",
      "\u001b[?25hRequirement already satisfied: requests>=2.26 in /Users/vojtechsikl/Library/Python/3.9/lib/python/site-packages (from yfinance) (2.28.2)\n",
      "Collecting cryptography>=3.3.2\n",
      "  Downloading cryptography-40.0.2-cp36-abi3-macosx_10_12_x86_64.whl (2.8 MB)\n",
      "\u001b[K     |████████████████████████████████| 2.8 MB 2.2 MB/s eta 0:00:01\n",
      "\u001b[?25hCollecting lxml>=4.9.1\n",
      "  Downloading lxml-4.9.2-cp39-cp39-macosx_10_15_x86_64.whl (4.8 MB)\n",
      "\u001b[K     |████████████████████████████████| 4.8 MB 9.0 MB/s eta 0:00:01     |█▉                              | 276 kB 2.4 MB/s eta 0:00:02     |█████████████████████▉          | 3.3 MB 2.4 MB/s eta 0:00:01\n",
      "\u001b[?25hCollecting frozendict>=2.3.4\n",
      "  Downloading frozendict-2.3.8-cp39-cp39-macosx_10_9_x86_64.whl (36 kB)\n",
      "Collecting html5lib>=1.1\n",
      "  Downloading html5lib-1.1-py2.py3-none-any.whl (112 kB)\n",
      "\u001b[K     |████████████████████████████████| 112 kB 4.7 MB/s eta 0:00:01\n",
      "\u001b[?25hCollecting soupsieve>1.2\n",
      "  Downloading soupsieve-2.4.1-py3-none-any.whl (36 kB)\n",
      "Collecting cffi>=1.12\n",
      "  Downloading cffi-1.15.1-cp39-cp39-macosx_10_9_x86_64.whl (179 kB)\n",
      "\u001b[K     |████████████████████████████████| 179 kB 1.9 MB/s eta 0:00:01\n",
      "\u001b[?25hCollecting pycparser\n",
      "  Downloading pycparser-2.21-py2.py3-none-any.whl (118 kB)\n",
      "\u001b[K     |████████████████████████████████| 118 kB 1.3 MB/s eta 0:00:01     |█████▌                          | 20 kB 3.0 MB/s eta 0:00:01\n",
      "\u001b[?25hRequirement already satisfied: six>=1.9 in /Library/Developer/CommandLineTools/Library/Frameworks/Python3.framework/Versions/3.9/lib/python3.9/site-packages (from html5lib>=1.1->yfinance) (1.15.0)\n",
      "Collecting webencodings\n",
      "  Downloading webencodings-0.5.1-py2.py3-none-any.whl (11 kB)\n",
      "Requirement already satisfied: python-dateutil>=2.8.1 in /Users/vojtechsikl/Library/Python/3.9/lib/python/site-packages (from pandas>=1.3.0->yfinance) (2.8.2)\n",
      "Requirement already satisfied: idna<4,>=2.5 in /Users/vojtechsikl/Library/Python/3.9/lib/python/site-packages (from requests>=2.26->yfinance) (3.4)\n",
      "Requirement already satisfied: charset-normalizer<4,>=2 in /Users/vojtechsikl/Library/Python/3.9/lib/python/site-packages (from requests>=2.26->yfinance) (3.1.0)\n",
      "Requirement already satisfied: urllib3<1.27,>=1.21.1 in /Users/vojtechsikl/Library/Python/3.9/lib/python/site-packages (from requests>=2.26->yfinance) (1.26.15)\n",
      "Requirement already satisfied: certifi>=2017.4.17 in /Users/vojtechsikl/Library/Python/3.9/lib/python/site-packages (from requests>=2.26->yfinance) (2022.12.7)\n",
      "Installing collected packages: pycparser, webencodings, soupsieve, cffi, multitasking, lxml, html5lib, frozendict, cryptography, beautifulsoup4, appdirs, yfinance\n",
      "Successfully installed appdirs-1.4.4 beautifulsoup4-4.12.2 cffi-1.15.1 cryptography-40.0.2 frozendict-2.3.8 html5lib-1.1 lxml-4.9.2 multitasking-0.0.11 pycparser-2.21 soupsieve-2.4.1 webencodings-0.5.1 yfinance-0.2.18\n",
      "\u001b[33mWARNING: You are using pip version 21.2.4; however, version 23.1.2 is available.\n",
      "You should consider upgrading via the '/Library/Developer/CommandLineTools/usr/bin/python3 -m pip install --upgrade pip' command.\u001b[0m\n",
      "Note: you may need to restart the kernel to use updated packages.\n"
     ]
    }
   ],
   "source": [
    "pip install yfinance\n"
   ]
  },
  {
   "cell_type": "markdown",
   "metadata": {},
   "source": []
  },
  {
   "cell_type": "code",
   "execution_count": 9,
   "metadata": {},
   "outputs": [],
   "source": [
    "import yfinance as yf\n",
    "import pandas as pd\n"
   ]
  },
  {
   "cell_type": "code",
   "execution_count": 10,
   "metadata": {},
   "outputs": [],
   "source": [
    "def download_stock_data(ticker, start_date, end_date):\n",
    "    stock = yf.Ticker(ticker)\n",
    "    stock_data = stock.history(start=start_date, end=end_date)\n",
    "    return stock_data\n"
   ]
  },
  {
   "cell_type": "code",
   "execution_count": 11,
   "metadata": {},
   "outputs": [
    {
     "name": "stdout",
     "output_type": "stream",
     "text": [
      "Popular stock tickers:\n",
      "AAPL: Apple Inc.\n",
      "MSFT: Microsoft Corporation\n",
      "AMZN: Amazon.com, Inc.\n",
      "GOOGL: Alphabet Inc.\n",
      "FB: Facebook, Inc.\n",
      "BRK-B: Berkshire Hathaway Inc.\n",
      "V: Visa Inc.\n",
      "TSLA: Tesla, Inc.\n",
      "JPM: JPMorgan Chase & Co.\n",
      "JNJ: Johnson & Johnson\n"
     ]
    }
   ],
   "source": [
    "popular_stocks = {\n",
    "    'AAPL': 'Apple Inc.',\n",
    "    'MSFT': 'Microsoft Corporation',\n",
    "    'AMZN': 'Amazon.com, Inc.',\n",
    "    'GOOGL': 'Alphabet Inc.',\n",
    "    'FB': 'Facebook, Inc.',\n",
    "    'BRK-B': 'Berkshire Hathaway Inc.',\n",
    "    'V': 'Visa Inc.',\n",
    "    'TSLA': 'Tesla, Inc.',\n",
    "    'JPM': 'JPMorgan Chase & Co.',\n",
    "    'JNJ': 'Johnson & Johnson',\n",
    "    # Add more stocks as needed\n",
    "}\n",
    "\n",
    "print(\"Popular stock tickers:\")\n",
    "for ticker, company in popular_stocks.items():\n",
    "    print(f\"{ticker}: {company}\")\n"
   ]
  },
  {
   "cell_type": "code",
   "execution_count": 12,
   "metadata": {},
   "outputs": [
    {
     "name": "stdout",
     "output_type": "stream",
     "text": [
      "                                Open       High        Low      Close  \\\n",
      "Date                                                                    \n",
      "1995-01-03 00:00:00-05:00   0.292087   0.292087   0.284574   0.288331   \n",
      "1995-01-04 00:00:00-05:00   0.290209   0.297723   0.290209   0.295844   \n",
      "1995-01-05 00:00:00-05:00   0.294904   0.295844   0.291148   0.292087   \n",
      "1995-01-06 00:00:00-05:00   0.312750   0.324020   0.308993   0.315567   \n",
      "1995-01-09 00:00:00-05:00   0.312750   0.314628   0.308053   0.309580   \n",
      "...                              ...        ...        ...        ...   \n",
      "2019-12-24 00:00:00-05:00  69.619818  69.668730  69.186974  69.517105   \n",
      "2019-12-26 00:00:00-05:00  69.651586  70.913444  69.622242  70.896324   \n",
      "2019-12-27 00:00:00-05:00  71.192241  71.889198  70.458603  70.869438   \n",
      "2019-12-30 00:00:00-05:00  70.786283  71.576169  69.749410  71.290047   \n",
      "2019-12-31 00:00:00-05:00  70.901224  71.818272  70.800960  71.810936   \n",
      "\n",
      "                               Volume  Dividends  Stock Splits  \n",
      "Date                                                            \n",
      "1995-01-03 00:00:00-05:00   103868800        0.0           0.0  \n",
      "1995-01-04 00:00:00-05:00   158681600        0.0           0.0  \n",
      "1995-01-05 00:00:00-05:00    73640000        0.0           0.0  \n",
      "1995-01-06 00:00:00-05:00  1076622400        0.0           0.0  \n",
      "1995-01-09 00:00:00-05:00   274086400        0.0           0.0  \n",
      "...                               ...        ...           ...  \n",
      "2019-12-24 00:00:00-05:00    48478800        0.0           0.0  \n",
      "2019-12-26 00:00:00-05:00    93121200        0.0           0.0  \n",
      "2019-12-27 00:00:00-05:00   146266000        0.0           0.0  \n",
      "2019-12-30 00:00:00-05:00   144114400        0.0           0.0  \n",
      "2019-12-31 00:00:00-05:00   100805600        0.0           0.0  \n",
      "\n",
      "[6294 rows x 7 columns]\n"
     ]
    }
   ],
   "source": [
    "ticker = input(\"Enter the stock ticker from the list above: \")\n",
    "end_date = input(\"Enter the end date (YYYY-MM-DD): \")\n",
    "\n",
    "# Validate the ticker input\n",
    "if ticker not in popular_stocks:\n",
    "    print(\"Error: Invalid ticker. Please choose a ticker from the list of popular stocks.\")\n",
    "else:\n",
    "    # Set the start date to January 1, 1995\n",
    "    start_date = \"1995-01-01\"\n",
    "\n",
    "    stock_data = download_stock_data(ticker, start_date, end_date)\n",
    "    print(stock_data)\n"
   ]
  },
  {
   "cell_type": "code",
   "execution_count": 13,
   "metadata": {},
   "outputs": [
    {
     "name": "stdout",
     "output_type": "stream",
     "text": [
      "Defaulting to user installation because normal site-packages is not writeable\n",
      "Requirement already satisfied: scikit-learn in /Users/vojtechsikl/Library/Python/3.9/lib/python/site-packages (1.2.2)\n",
      "Requirement already satisfied: joblib>=1.1.1 in /Users/vojtechsikl/Library/Python/3.9/lib/python/site-packages (from scikit-learn) (1.2.0)\n",
      "Requirement already satisfied: threadpoolctl>=2.0.0 in /Users/vojtechsikl/Library/Python/3.9/lib/python/site-packages (from scikit-learn) (3.1.0)\n",
      "Requirement already satisfied: scipy>=1.3.2 in /Users/vojtechsikl/Library/Python/3.9/lib/python/site-packages (from scikit-learn) (1.10.1)\n",
      "Requirement already satisfied: numpy>=1.17.3 in /Users/vojtechsikl/Library/Python/3.9/lib/python/site-packages (from scikit-learn) (1.24.2)\n",
      "\u001b[33mWARNING: You are using pip version 21.2.4; however, version 23.1.2 is available.\n",
      "You should consider upgrading via the '/Library/Developer/CommandLineTools/usr/bin/python3 -m pip install --upgrade pip' command.\u001b[0m\n",
      "Note: you may need to restart the kernel to use updated packages.\n"
     ]
    }
   ],
   "source": [
    "pip install scikit-learn"
   ]
  },
  {
   "attachments": {},
   "cell_type": "markdown",
   "metadata": {},
   "source": [
    "###\n",
    "Here, we have preprocessed the data and prepared it for the implementation of ML algorithms"
   ]
  },
  {
   "cell_type": "code",
   "execution_count": 14,
   "metadata": {},
   "outputs": [],
   "source": [
    "import numpy as np\n",
    "from sklearn.preprocessing import MinMaxScaler\n"
   ]
  },
  {
   "cell_type": "code",
   "execution_count": 15,
   "metadata": {},
   "outputs": [
    {
     "name": "stdout",
     "output_type": "stream",
     "text": [
      "Missing values in the stock data:\n",
      "Open            0\n",
      "High            0\n",
      "Low             0\n",
      "Close           0\n",
      "Volume          0\n",
      "Dividends       0\n",
      "Stock Splits    0\n",
      "dtype: int64\n"
     ]
    }
   ],
   "source": [
    "print(\"Missing values in the stock data:\")\n",
    "print(stock_data.isnull().sum())\n"
   ]
  },
  {
   "cell_type": "code",
   "execution_count": 16,
   "metadata": {},
   "outputs": [],
   "source": [
    "stock_data.interpolate(method='linear', inplace=True)\n"
   ]
  },
  {
   "cell_type": "code",
   "execution_count": 17,
   "metadata": {},
   "outputs": [],
   "source": [
    "adj_close_prices = stock_data['Close'].values.reshape(-1, 1)\n",
    "\n",
    "scaler = MinMaxScaler(feature_range=(0, 1))\n",
    "scaled_adj_close_prices = scaler.fit_transform(adj_close_prices)\n"
   ]
  },
  {
   "attachments": {},
   "cell_type": "markdown",
   "metadata": {},
   "source": [
    "We will now split the data into training and testing sets"
   ]
  },
  {
   "cell_type": "code",
   "execution_count": 20,
   "metadata": {},
   "outputs": [
    {
     "name": "stdout",
     "output_type": "stream",
     "text": [
      "Defaulting to user installation because normal site-packages is not writeable\n",
      "Collecting keras\n",
      "  Downloading keras-2.12.0-py2.py3-none-any.whl (1.7 MB)\n",
      "\u001b[K     |████████████████████████████████| 1.7 MB 1.6 MB/s eta 0:00:01\n",
      "\u001b[?25hInstalling collected packages: keras\n",
      "Successfully installed keras-2.12.0\n",
      "\u001b[33mWARNING: You are using pip version 21.2.4; however, version 23.1.2 is available.\n",
      "You should consider upgrading via the '/Library/Developer/CommandLineTools/usr/bin/python3 -m pip install --upgrade pip' command.\u001b[0m\n",
      "Note: you may need to restart the kernel to use updated packages.\n"
     ]
    }
   ],
   "source": [
    "pip install keras"
   ]
  },
  {
   "cell_type": "code",
   "execution_count": 23,
   "metadata": {},
   "outputs": [
    {
     "name": "stdout",
     "output_type": "stream",
     "text": [
      "Defaulting to user installation because normal site-packages is not writeable\n",
      "Collecting tensorflow\n",
      "  Downloading tensorflow-2.12.0-cp39-cp39-macosx_10_15_x86_64.whl (230.1 MB)\n",
      "\u001b[K     |████████████████████████████████| 230.1 MB 47 kB/s  eta 0:00:011   |█████▎                          | 37.6 MB 4.6 MB/s eta 0:00:42     |████████████▋                   | 90.3 MB 401 kB/s eta 0:05:48     |████████████▊                   | 91.6 MB 778 kB/s eta 0:02:58     |██████████████████████████▊     | 191.8 MB 1.3 MB/s eta 0:00:31\n",
      "\u001b[?25hCollecting gast<=0.4.0,>=0.2.1\n",
      "  Downloading gast-0.4.0-py3-none-any.whl (9.8 kB)\n",
      "Collecting opt-einsum>=2.3.2\n",
      "  Downloading opt_einsum-3.3.0-py3-none-any.whl (65 kB)\n",
      "\u001b[K     |████████████████████████████████| 65 kB 2.3 MB/s eta 0:00:01\n",
      "\u001b[?25hCollecting libclang>=13.0.0\n",
      "  Downloading libclang-16.0.0-py2.py3-none-macosx_10_9_x86_64.whl (26.7 MB)\n",
      "\u001b[K     |████████████████████████████████| 26.7 MB 1.7 MB/s eta 0:00:011\n",
      "\u001b[?25hCollecting tensorflow-io-gcs-filesystem>=0.23.1\n",
      "  Downloading tensorflow_io_gcs_filesystem-0.32.0-cp39-cp39-macosx_10_14_x86_64.whl (1.7 MB)\n",
      "\u001b[K     |████████████████████████████████| 1.7 MB 1.1 MB/s eta 0:00:01\n",
      "\u001b[?25hCollecting termcolor>=1.1.0\n",
      "  Downloading termcolor-2.3.0-py3-none-any.whl (6.9 kB)\n",
      "Collecting wrapt<1.15,>=1.11.0\n",
      "  Downloading wrapt-1.14.1-cp39-cp39-macosx_10_9_x86_64.whl (35 kB)\n",
      "Collecting absl-py>=1.0.0\n",
      "  Downloading absl_py-1.4.0-py3-none-any.whl (126 kB)\n",
      "\u001b[K     |████████████████████████████████| 126 kB 2.8 MB/s eta 0:00:01\n",
      "\u001b[?25hRequirement already satisfied: keras<2.13,>=2.12.0 in /Users/vojtechsikl/Library/Python/3.9/lib/python/site-packages (from tensorflow) (2.12.0)\n",
      "Collecting tensorboard<2.13,>=2.12\n",
      "  Downloading tensorboard-2.12.3-py3-none-any.whl (5.6 MB)\n",
      "\u001b[K     |████████████████████████████████| 5.6 MB 2.0 MB/s eta 0:00:01\n",
      "\u001b[?25hCollecting grpcio<2.0,>=1.24.3\n",
      "  Downloading grpcio-1.54.0-cp39-cp39-macosx_10_10_universal2.whl (8.7 MB)\n",
      "\u001b[K     |████████████████████████████████| 8.7 MB 152 kB/s eta 0:00:01\n",
      "\u001b[?25hCollecting protobuf!=4.21.0,!=4.21.1,!=4.21.2,!=4.21.3,!=4.21.4,!=4.21.5,<5.0.0dev,>=3.20.3\n",
      "  Downloading protobuf-4.22.4-cp37-abi3-macosx_10_9_universal2.whl (397 kB)\n",
      "\u001b[K     |████████████████████████████████| 397 kB 4.9 MB/s eta 0:00:01\n",
      "\u001b[?25hCollecting tensorflow-estimator<2.13,>=2.12.0\n",
      "  Downloading tensorflow_estimator-2.12.0-py2.py3-none-any.whl (440 kB)\n",
      "\u001b[K     |████████████████████████████████| 440 kB 3.0 MB/s eta 0:00:01\n",
      "\u001b[?25hCollecting flatbuffers>=2.0\n",
      "  Downloading flatbuffers-23.3.3-py2.py3-none-any.whl (26 kB)\n",
      "Collecting jax>=0.3.15\n",
      "  Downloading jax-0.4.8.tar.gz (1.2 MB)\n",
      "\u001b[K     |████████████████████████████████| 1.2 MB 2.4 MB/s eta 0:00:01\n",
      "\u001b[?25h\u001b[33m  WARNING: Value for prefixed-purelib does not match. Please report this to <https://github.com/pypa/pip/issues/10151>\n",
      "  distutils: /private/var/folders/04/7w96f6054nn3b4jcfrrz9k480000gn/T/pip-build-env-8hkg595t/normal/lib/python3.9/site-packages\n",
      "  sysconfig: /Library/Python/3.9/site-packages\u001b[0m\n",
      "\u001b[33m  WARNING: Value for prefixed-platlib does not match. Please report this to <https://github.com/pypa/pip/issues/10151>\n",
      "  distutils: /private/var/folders/04/7w96f6054nn3b4jcfrrz9k480000gn/T/pip-build-env-8hkg595t/normal/lib/python3.9/site-packages\n",
      "  sysconfig: /Library/Python/3.9/site-packages\u001b[0m\n",
      "\u001b[33m  WARNING: Additional context:\n",
      "  user = False\n",
      "  home = None\n",
      "  root = None\n",
      "  prefix = '/private/var/folders/04/7w96f6054nn3b4jcfrrz9k480000gn/T/pip-build-env-8hkg595t/normal'\u001b[0m\n",
      "\u001b[33m  WARNING: Value for prefixed-purelib does not match. Please report this to <https://github.com/pypa/pip/issues/10151>\n",
      "  distutils: /private/var/folders/04/7w96f6054nn3b4jcfrrz9k480000gn/T/pip-build-env-8hkg595t/overlay/lib/python3.9/site-packages\n",
      "  sysconfig: /Library/Python/3.9/site-packages\u001b[0m\n",
      "\u001b[33m  WARNING: Value for prefixed-platlib does not match. Please report this to <https://github.com/pypa/pip/issues/10151>\n",
      "  distutils: /private/var/folders/04/7w96f6054nn3b4jcfrrz9k480000gn/T/pip-build-env-8hkg595t/overlay/lib/python3.9/site-packages\n",
      "  sysconfig: /Library/Python/3.9/site-packages\u001b[0m\n",
      "\u001b[33m  WARNING: Additional context:\n",
      "  user = False\n",
      "  home = None\n",
      "  root = None\n",
      "  prefix = '/private/var/folders/04/7w96f6054nn3b4jcfrrz9k480000gn/T/pip-build-env-8hkg595t/overlay'\u001b[0m\n",
      "  Installing build dependencies ... \u001b[?25ldone\n",
      "\u001b[?25h  Getting requirements to build wheel ... \u001b[?25ldone\n",
      "\u001b[?25h    Preparing wheel metadata ... \u001b[?25ldone\n",
      "\u001b[?25hCollecting astunparse>=1.6.0\n",
      "  Downloading astunparse-1.6.3-py2.py3-none-any.whl (12 kB)\n",
      "Collecting numpy<1.24,>=1.22\n",
      "  Downloading numpy-1.23.5-cp39-cp39-macosx_10_9_x86_64.whl (18.1 MB)\n",
      "\u001b[K     |████████████████████████████████| 18.1 MB 4.2 MB/s eta 0:00:011   |████████████▎                   | 7.0 MB 2.6 MB/s eta 0:00:05     |██████████████████▉             | 10.7 MB 12.1 MB/s eta 0:00:01\n",
      "\u001b[?25hCollecting google-pasta>=0.1.1\n",
      "  Downloading google_pasta-0.2.0-py3-none-any.whl (57 kB)\n",
      "\u001b[K     |████████████████████████████████| 57 kB 2.2 MB/s eta 0:00:01\n",
      "\u001b[?25hRequirement already satisfied: packaging in /Users/vojtechsikl/Library/Python/3.9/lib/python/site-packages (from tensorflow) (23.0)\n",
      "Collecting h5py>=2.9.0\n",
      "  Downloading h5py-3.8.0-cp39-cp39-macosx_10_9_x86_64.whl (3.2 MB)\n",
      "\u001b[K     |████████████████████████████████| 3.2 MB 1.6 MB/s eta 0:00:01\n",
      "\u001b[?25hRequirement already satisfied: setuptools in /Library/Developer/CommandLineTools/Library/Frameworks/Python3.framework/Versions/3.9/lib/python3.9/site-packages (from tensorflow) (58.0.4)\n",
      "Requirement already satisfied: six>=1.12.0 in /Library/Developer/CommandLineTools/Library/Frameworks/Python3.framework/Versions/3.9/lib/python3.9/site-packages (from tensorflow) (1.15.0)\n",
      "Collecting typing-extensions>=3.6.6\n",
      "  Downloading typing_extensions-4.5.0-py3-none-any.whl (27 kB)\n",
      "Requirement already satisfied: wheel<1.0,>=0.23.0 in /Library/Developer/CommandLineTools/Library/Frameworks/Python3.framework/Versions/3.9/lib/python3.9/site-packages (from astunparse>=1.6.0->tensorflow) (0.37.0)\n",
      "Collecting ml-dtypes>=0.0.3\n",
      "  Downloading ml_dtypes-0.1.0-cp39-cp39-macosx_10_9_universal2.whl (317 kB)\n",
      "\u001b[K     |████████████████████████████████| 317 kB 2.0 MB/s eta 0:00:01\n",
      "\u001b[?25hRequirement already satisfied: scipy>=1.7 in /Users/vojtechsikl/Library/Python/3.9/lib/python/site-packages (from jax>=0.3.15->tensorflow) (1.10.1)\n",
      "Collecting google-auth-oauthlib<1.1,>=0.5\n",
      "  Downloading google_auth_oauthlib-1.0.0-py2.py3-none-any.whl (18 kB)\n",
      "Collecting tensorboard-data-server<0.8.0,>=0.7.0\n",
      "  Downloading tensorboard_data_server-0.7.0-py3-none-macosx_10_9_x86_64.whl (4.8 MB)\n",
      "\u001b[K     |████████████████████████████████| 4.8 MB 2.5 MB/s eta 0:00:01\n",
      "\u001b[?25hRequirement already satisfied: requests<3,>=2.21.0 in /Users/vojtechsikl/Library/Python/3.9/lib/python/site-packages (from tensorboard<2.13,>=2.12->tensorflow) (2.28.2)\n",
      "Collecting werkzeug>=1.0.1\n",
      "  Downloading Werkzeug-2.3.3-py3-none-any.whl (242 kB)\n",
      "\u001b[K     |████████████████████████████████| 242 kB 4.7 MB/s eta 0:00:01\n",
      "\u001b[?25hCollecting markdown>=2.6.8\n",
      "  Downloading Markdown-3.4.3-py3-none-any.whl (93 kB)\n",
      "\u001b[K     |████████████████████████████████| 93 kB 2.5 MB/s eta 0:00:011\n",
      "\u001b[?25hCollecting google-auth<3,>=1.6.3\n",
      "  Downloading google_auth-2.17.3-py2.py3-none-any.whl (178 kB)\n",
      "\u001b[K     |████████████████████████████████| 178 kB 4.4 MB/s eta 0:00:01\n",
      "\u001b[?25hCollecting rsa<5,>=3.1.4\n",
      "  Downloading rsa-4.9-py3-none-any.whl (34 kB)\n",
      "Collecting pyasn1-modules>=0.2.1\n",
      "  Downloading pyasn1_modules-0.3.0-py2.py3-none-any.whl (181 kB)\n",
      "\u001b[K     |████████████████████████████████| 181 kB 4.3 MB/s eta 0:00:01\n",
      "\u001b[?25hCollecting cachetools<6.0,>=2.0.0\n",
      "  Downloading cachetools-5.3.0-py3-none-any.whl (9.3 kB)\n",
      "Collecting requests-oauthlib>=0.7.0\n",
      "  Downloading requests_oauthlib-1.3.1-py2.py3-none-any.whl (23 kB)\n",
      "Requirement already satisfied: importlib-metadata>=4.4 in /Users/vojtechsikl/Library/Python/3.9/lib/python/site-packages (from markdown>=2.6.8->tensorboard<2.13,>=2.12->tensorflow) (6.0.0)\n",
      "Requirement already satisfied: zipp>=0.5 in /Users/vojtechsikl/Library/Python/3.9/lib/python/site-packages (from importlib-metadata>=4.4->markdown>=2.6.8->tensorboard<2.13,>=2.12->tensorflow) (3.15.0)\n",
      "Collecting pyasn1<0.6.0,>=0.4.6\n",
      "  Downloading pyasn1-0.5.0-py2.py3-none-any.whl (83 kB)\n",
      "\u001b[K     |████████████████████████████████| 83 kB 2.2 MB/s eta 0:00:011\n",
      "\u001b[?25hRequirement already satisfied: idna<4,>=2.5 in /Users/vojtechsikl/Library/Python/3.9/lib/python/site-packages (from requests<3,>=2.21.0->tensorboard<2.13,>=2.12->tensorflow) (3.4)\n",
      "Requirement already satisfied: charset-normalizer<4,>=2 in /Users/vojtechsikl/Library/Python/3.9/lib/python/site-packages (from requests<3,>=2.21.0->tensorboard<2.13,>=2.12->tensorflow) (3.1.0)\n",
      "Requirement already satisfied: urllib3<1.27,>=1.21.1 in /Users/vojtechsikl/Library/Python/3.9/lib/python/site-packages (from requests<3,>=2.21.0->tensorboard<2.13,>=2.12->tensorflow) (1.26.15)\n",
      "Requirement already satisfied: certifi>=2017.4.17 in /Users/vojtechsikl/Library/Python/3.9/lib/python/site-packages (from requests<3,>=2.21.0->tensorboard<2.13,>=2.12->tensorflow) (2022.12.7)\n",
      "Collecting oauthlib>=3.0.0\n",
      "  Downloading oauthlib-3.2.2-py3-none-any.whl (151 kB)\n",
      "\u001b[K     |████████████████████████████████| 151 kB 1.8 MB/s eta 0:00:01\n",
      "\u001b[?25hCollecting MarkupSafe>=2.1.1\n",
      "  Downloading MarkupSafe-2.1.2-cp39-cp39-macosx_10_9_x86_64.whl (13 kB)\n",
      "Building wheels for collected packages: jax\n",
      "  Building wheel for jax (PEP 517) ... \u001b[?25ldone\n",
      "\u001b[?25h  Created wheel for jax: filename=jax-0.4.8-py3-none-any.whl size=1439694 sha256=2b43fd2397b401576242d7e4f1e281782441099dc9c5eb0a2380f42716e8343a\n",
      "  Stored in directory: /Users/vojtechsikl/Library/Caches/pip/wheels/05/94/dc/81042da9bced43ff430bc02043d213d9e4b210b584c39e31c1\n",
      "Successfully built jax\n",
      "Installing collected packages: pyasn1, rsa, pyasn1-modules, oauthlib, cachetools, requests-oauthlib, numpy, MarkupSafe, google-auth, werkzeug, tensorboard-data-server, protobuf, opt-einsum, ml-dtypes, markdown, grpcio, google-auth-oauthlib, absl-py, wrapt, typing-extensions, termcolor, tensorflow-io-gcs-filesystem, tensorflow-estimator, tensorboard, libclang, jax, h5py, google-pasta, gast, flatbuffers, astunparse, tensorflow\n",
      "  Attempting uninstall: numpy\n",
      "    Found existing installation: numpy 1.24.2\n",
      "    Uninstalling numpy-1.24.2:\n",
      "      Successfully uninstalled numpy-1.24.2\n",
      "Successfully installed MarkupSafe-2.1.2 absl-py-1.4.0 astunparse-1.6.3 cachetools-5.3.0 flatbuffers-23.3.3 gast-0.4.0 google-auth-2.17.3 google-auth-oauthlib-1.0.0 google-pasta-0.2.0 grpcio-1.54.0 h5py-3.8.0 jax-0.4.8 libclang-16.0.0 markdown-3.4.3 ml-dtypes-0.1.0 numpy-1.23.5 oauthlib-3.2.2 opt-einsum-3.3.0 protobuf-4.22.4 pyasn1-0.5.0 pyasn1-modules-0.3.0 requests-oauthlib-1.3.1 rsa-4.9 tensorboard-2.12.3 tensorboard-data-server-0.7.0 tensorflow-2.12.0 tensorflow-estimator-2.12.0 tensorflow-io-gcs-filesystem-0.32.0 termcolor-2.3.0 typing-extensions-4.5.0 werkzeug-2.3.3 wrapt-1.14.1\n",
      "\u001b[33mWARNING: You are using pip version 21.2.4; however, version 23.1.2 is available.\n",
      "You should consider upgrading via the '/Library/Developer/CommandLineTools/usr/bin/python3 -m pip install --upgrade pip' command.\u001b[0m\n",
      "Note: you may need to restart the kernel to use updated packages.\n"
     ]
    }
   ],
   "source": [
    "pip install tensorflow"
   ]
  },
  {
   "cell_type": "code",
   "execution_count": 21,
   "metadata": {},
   "outputs": [
    {
     "name": "stdout",
     "output_type": "stream",
     "text": [
      "Defaulting to user installation because normal site-packages is not writeable\n",
      "Collecting statsmodels\n",
      "  Downloading statsmodels-0.14.0-cp39-cp39-macosx_10_9_x86_64.whl (9.9 MB)\n",
      "\u001b[K     |████████████████████████████████| 9.9 MB 710 kB/s eta 0:00:01\n",
      "\u001b[?25hRequirement already satisfied: scipy!=1.9.2,>=1.4 in /Users/vojtechsikl/Library/Python/3.9/lib/python/site-packages (from statsmodels) (1.10.1)\n",
      "Requirement already satisfied: pandas>=1.0 in /Users/vojtechsikl/Library/Python/3.9/lib/python/site-packages (from statsmodels) (1.5.3)\n",
      "Requirement already satisfied: packaging>=21.3 in /Users/vojtechsikl/Library/Python/3.9/lib/python/site-packages (from statsmodels) (23.0)\n",
      "Collecting patsy>=0.5.2\n",
      "  Downloading patsy-0.5.3-py2.py3-none-any.whl (233 kB)\n",
      "\u001b[K     |████████████████████████████████| 233 kB 2.0 MB/s eta 0:00:01\n",
      "\u001b[?25hRequirement already satisfied: numpy>=1.18 in /Users/vojtechsikl/Library/Python/3.9/lib/python/site-packages (from statsmodels) (1.24.2)\n",
      "Requirement already satisfied: pytz>=2020.1 in /Users/vojtechsikl/Library/Python/3.9/lib/python/site-packages (from pandas>=1.0->statsmodels) (2022.7.1)\n",
      "Requirement already satisfied: python-dateutil>=2.8.1 in /Users/vojtechsikl/Library/Python/3.9/lib/python/site-packages (from pandas>=1.0->statsmodels) (2.8.2)\n",
      "Requirement already satisfied: six in /Library/Developer/CommandLineTools/Library/Frameworks/Python3.framework/Versions/3.9/lib/python3.9/site-packages (from patsy>=0.5.2->statsmodels) (1.15.0)\n",
      "Installing collected packages: patsy, statsmodels\n",
      "Successfully installed patsy-0.5.3 statsmodels-0.14.0\n",
      "\u001b[33mWARNING: You are using pip version 21.2.4; however, version 23.1.2 is available.\n",
      "You should consider upgrading via the '/Library/Developer/CommandLineTools/usr/bin/python3 -m pip install --upgrade pip' command.\u001b[0m\n",
      "Note: you may need to restart the kernel to use updated packages.\n"
     ]
    }
   ],
   "source": [
    "pip install statsmodels\n"
   ]
  },
  {
   "cell_type": "code",
   "execution_count": 24,
   "metadata": {},
   "outputs": [
    {
     "name": "stderr",
     "output_type": "stream",
     "text": [
      "2023-05-05 21:40:05.075207: I tensorflow/core/platform/cpu_feature_guard.cc:182] This TensorFlow binary is optimized to use available CPU instructions in performance-critical operations.\n",
      "To enable the following instructions: AVX2 FMA, in other operations, rebuild TensorFlow with the appropriate compiler flags.\n"
     ]
    }
   ],
   "source": [
    "import numpy as np\n",
    "from sklearn.preprocessing import MinMaxScaler\n",
    "from sklearn.model_selection import train_test_split\n",
    "from sklearn.linear_model import LinearRegression\n",
    "from sklearn.metrics import mean_squared_error\n",
    "from statsmodels.tsa.arima.model import ARIMA\n",
    "from keras.models import Sequential\n",
    "from keras.layers import Dense, LSTM\n",
    "import matplotlib.pyplot as plt\n"
   ]
  },
  {
   "cell_type": "code",
   "execution_count": 25,
   "metadata": {},
   "outputs": [],
   "source": [
    "def create_dataset(data, look_back=1):\n",
    "    X, y = [], []\n",
    "    for i in range(len(data) - look_back - 1):\n",
    "        X.append(data[i:(i + look_back), 0])\n",
    "        y.append(data[i + look_back, 0])\n",
    "    return np.array(X), np.array(y)\n"
   ]
  },
  {
   "cell_type": "code",
   "execution_count": 26,
   "metadata": {},
   "outputs": [],
   "source": [
    "look_back = 1\n",
    "X, y = create_dataset(scaled_adj_close_prices, look_back)\n",
    "X_train, X_test, y_train, y_test = train_test_split(X, y, test_size=0.2, random_state=42, shuffle=False)\n"
   ]
  },
  {
   "cell_type": "code",
   "execution_count": 27,
   "metadata": {},
   "outputs": [],
   "source": [
    "lr_model = LinearRegression()\n",
    "lr_model.fit(X_train, y_train)\n",
    "\n",
    "lr_train_pred = lr_model.predict(X_train)\n",
    "lr_test_pred = lr_model.predict(X_test)\n"
   ]
  },
  {
   "cell_type": "code",
   "execution_count": 28,
   "metadata": {},
   "outputs": [],
   "source": [
    "arima_train_data = scaler.inverse_transform(y_train.reshape(-1, 1)).flatten()\n",
    "arima_test_data = scaler.inverse_transform(y_test.reshape(-1, 1)).flatten()\n",
    "\n",
    "arima_model = ARIMA(arima_train_data, order=(5, 1, 0))\n",
    "arima_model_fit = arima_model.fit()\n",
    "arima_test_pred = arima_model_fit.forecast(steps=len(y_test))\n"
   ]
  },
  {
   "attachments": {},
   "cell_type": "markdown",
   "metadata": {},
   "source": [
    "Tohle trvá tak 8 minut hehe"
   ]
  },
  {
   "cell_type": "code",
   "execution_count": 29,
   "metadata": {},
   "outputs": [
    {
     "name": "stdout",
     "output_type": "stream",
     "text": [
      "Epoch 1/50\n"
     ]
    },
    {
     "name": "stderr",
     "output_type": "stream",
     "text": [
      "2023-05-05 21:40:32.303371: I tensorflow/core/common_runtime/executor.cc:1197] [/device:CPU:0] (DEBUG INFO) Executor start aborting (this does not indicate an error and you can ignore this message): INVALID_ARGUMENT: You must feed a value for placeholder tensor 'gradients/split_2_grad/concat/split_2/split_dim' with dtype int32\n",
      "\t [[{{node gradients/split_2_grad/concat/split_2/split_dim}}]]\n",
      "2023-05-05 21:40:32.305014: I tensorflow/core/common_runtime/executor.cc:1197] [/device:CPU:0] (DEBUG INFO) Executor start aborting (this does not indicate an error and you can ignore this message): INVALID_ARGUMENT: You must feed a value for placeholder tensor 'gradients/split_grad/concat/split/split_dim' with dtype int32\n",
      "\t [[{{node gradients/split_grad/concat/split/split_dim}}]]\n",
      "2023-05-05 21:40:32.306838: I tensorflow/core/common_runtime/executor.cc:1197] [/device:CPU:0] (DEBUG INFO) Executor start aborting (this does not indicate an error and you can ignore this message): INVALID_ARGUMENT: You must feed a value for placeholder tensor 'gradients/split_1_grad/concat/split_1/split_dim' with dtype int32\n",
      "\t [[{{node gradients/split_1_grad/concat/split_1/split_dim}}]]\n",
      "2023-05-05 21:40:32.994047: I tensorflow/core/common_runtime/executor.cc:1197] [/device:CPU:0] (DEBUG INFO) Executor start aborting (this does not indicate an error and you can ignore this message): INVALID_ARGUMENT: You must feed a value for placeholder tensor 'gradients/split_2_grad/concat/split_2/split_dim' with dtype int32\n",
      "\t [[{{node gradients/split_2_grad/concat/split_2/split_dim}}]]\n",
      "2023-05-05 21:40:32.999686: I tensorflow/core/common_runtime/executor.cc:1197] [/device:CPU:0] (DEBUG INFO) Executor start aborting (this does not indicate an error and you can ignore this message): INVALID_ARGUMENT: You must feed a value for placeholder tensor 'gradients/split_grad/concat/split/split_dim' with dtype int32\n",
      "\t [[{{node gradients/split_grad/concat/split/split_dim}}]]\n",
      "2023-05-05 21:40:33.004317: I tensorflow/core/common_runtime/executor.cc:1197] [/device:CPU:0] (DEBUG INFO) Executor start aborting (this does not indicate an error and you can ignore this message): INVALID_ARGUMENT: You must feed a value for placeholder tensor 'gradients/split_1_grad/concat/split_1/split_dim' with dtype int32\n",
      "\t [[{{node gradients/split_1_grad/concat/split_1/split_dim}}]]\n",
      "2023-05-05 21:40:34.055582: I tensorflow/core/common_runtime/executor.cc:1197] [/device:CPU:0] (DEBUG INFO) Executor start aborting (this does not indicate an error and you can ignore this message): INVALID_ARGUMENT: You must feed a value for placeholder tensor 'gradients/split_2_grad/concat/split_2/split_dim' with dtype int32\n",
      "\t [[{{node gradients/split_2_grad/concat/split_2/split_dim}}]]\n",
      "2023-05-05 21:40:34.057371: I tensorflow/core/common_runtime/executor.cc:1197] [/device:CPU:0] (DEBUG INFO) Executor start aborting (this does not indicate an error and you can ignore this message): INVALID_ARGUMENT: You must feed a value for placeholder tensor 'gradients/split_grad/concat/split/split_dim' with dtype int32\n",
      "\t [[{{node gradients/split_grad/concat/split/split_dim}}]]\n",
      "2023-05-05 21:40:34.059829: I tensorflow/core/common_runtime/executor.cc:1197] [/device:CPU:0] (DEBUG INFO) Executor start aborting (this does not indicate an error and you can ignore this message): INVALID_ARGUMENT: You must feed a value for placeholder tensor 'gradients/split_1_grad/concat/split_1/split_dim' with dtype int32\n",
      "\t [[{{node gradients/split_1_grad/concat/split_1/split_dim}}]]\n"
     ]
    },
    {
     "name": "stdout",
     "output_type": "stream",
     "text": [
      "5033/5033 - 11s - loss: 4.2547e-04 - 11s/epoch - 2ms/step\n",
      "Epoch 2/50\n",
      "5033/5033 - 8s - loss: 9.2416e-06 - 8s/epoch - 2ms/step\n",
      "Epoch 3/50\n",
      "5033/5033 - 8s - loss: 8.4955e-06 - 8s/epoch - 2ms/step\n",
      "Epoch 4/50\n",
      "5033/5033 - 9s - loss: 8.0893e-06 - 9s/epoch - 2ms/step\n",
      "Epoch 5/50\n",
      "5033/5033 - 13s - loss: 8.6844e-06 - 13s/epoch - 3ms/step\n",
      "Epoch 6/50\n",
      "5033/5033 - 10s - loss: 7.8463e-06 - 10s/epoch - 2ms/step\n",
      "Epoch 7/50\n",
      "5033/5033 - 8s - loss: 7.5723e-06 - 8s/epoch - 2ms/step\n",
      "Epoch 8/50\n",
      "5033/5033 - 8s - loss: 7.6971e-06 - 8s/epoch - 2ms/step\n",
      "Epoch 9/50\n",
      "5033/5033 - 8s - loss: 7.5323e-06 - 8s/epoch - 2ms/step\n",
      "Epoch 10/50\n",
      "5033/5033 - 9s - loss: 7.4554e-06 - 9s/epoch - 2ms/step\n",
      "Epoch 11/50\n",
      "5033/5033 - 10s - loss: 7.8084e-06 - 10s/epoch - 2ms/step\n",
      "Epoch 12/50\n",
      "5033/5033 - 9s - loss: 7.2334e-06 - 9s/epoch - 2ms/step\n",
      "Epoch 13/50\n",
      "5033/5033 - 10s - loss: 7.9130e-06 - 10s/epoch - 2ms/step\n",
      "Epoch 14/50\n",
      "5033/5033 - 10s - loss: 6.9901e-06 - 10s/epoch - 2ms/step\n",
      "Epoch 15/50\n",
      "5033/5033 - 9s - loss: 7.4608e-06 - 9s/epoch - 2ms/step\n",
      "Epoch 16/50\n",
      "5033/5033 - 9s - loss: 7.2636e-06 - 9s/epoch - 2ms/step\n",
      "Epoch 17/50\n",
      "5033/5033 - 10s - loss: 7.2219e-06 - 10s/epoch - 2ms/step\n",
      "Epoch 18/50\n",
      "5033/5033 - 13s - loss: 7.0995e-06 - 13s/epoch - 3ms/step\n",
      "Epoch 19/50\n",
      "5033/5033 - 10s - loss: 6.8535e-06 - 10s/epoch - 2ms/step\n",
      "Epoch 20/50\n",
      "5033/5033 - 10s - loss: 6.9438e-06 - 10s/epoch - 2ms/step\n",
      "Epoch 21/50\n",
      "5033/5033 - 9s - loss: 6.9592e-06 - 9s/epoch - 2ms/step\n",
      "Epoch 22/50\n",
      "5033/5033 - 9s - loss: 6.8132e-06 - 9s/epoch - 2ms/step\n",
      "Epoch 23/50\n",
      "5033/5033 - 9s - loss: 6.8362e-06 - 9s/epoch - 2ms/step\n",
      "Epoch 24/50\n",
      "5033/5033 - 10s - loss: 6.8157e-06 - 10s/epoch - 2ms/step\n",
      "Epoch 25/50\n",
      "5033/5033 - 9s - loss: 6.7121e-06 - 9s/epoch - 2ms/step\n",
      "Epoch 26/50\n",
      "5033/5033 - 9s - loss: 7.0138e-06 - 9s/epoch - 2ms/step\n",
      "Epoch 27/50\n",
      "5033/5033 - 9s - loss: 6.6387e-06 - 9s/epoch - 2ms/step\n",
      "Epoch 28/50\n",
      "5033/5033 - 9s - loss: 6.5174e-06 - 9s/epoch - 2ms/step\n",
      "Epoch 29/50\n",
      "5033/5033 - 8s - loss: 6.8371e-06 - 8s/epoch - 2ms/step\n",
      "Epoch 30/50\n",
      "5033/5033 - 8s - loss: 6.2166e-06 - 8s/epoch - 2ms/step\n",
      "Epoch 31/50\n",
      "5033/5033 - 8s - loss: 6.6652e-06 - 8s/epoch - 2ms/step\n",
      "Epoch 32/50\n",
      "5033/5033 - 9s - loss: 6.3107e-06 - 9s/epoch - 2ms/step\n",
      "Epoch 33/50\n",
      "5033/5033 - 8s - loss: 6.3720e-06 - 8s/epoch - 2ms/step\n",
      "Epoch 34/50\n",
      "5033/5033 - 9s - loss: 6.3601e-06 - 9s/epoch - 2ms/step\n",
      "Epoch 35/50\n",
      "5033/5033 - 11s - loss: 6.2606e-06 - 11s/epoch - 2ms/step\n",
      "Epoch 36/50\n",
      "5033/5033 - 10s - loss: 6.4686e-06 - 10s/epoch - 2ms/step\n",
      "Epoch 37/50\n",
      "5033/5033 - 8s - loss: 6.5407e-06 - 8s/epoch - 2ms/step\n",
      "Epoch 38/50\n",
      "5033/5033 - 11s - loss: 6.5171e-06 - 11s/epoch - 2ms/step\n",
      "Epoch 39/50\n",
      "5033/5033 - 8s - loss: 6.4396e-06 - 8s/epoch - 2ms/step\n",
      "Epoch 40/50\n",
      "5033/5033 - 8s - loss: 6.2200e-06 - 8s/epoch - 1ms/step\n",
      "Epoch 41/50\n",
      "5033/5033 - 8s - loss: 6.4562e-06 - 8s/epoch - 2ms/step\n",
      "Epoch 42/50\n",
      "5033/5033 - 8s - loss: 6.5280e-06 - 8s/epoch - 2ms/step\n",
      "Epoch 43/50\n",
      "5033/5033 - 8s - loss: 6.2561e-06 - 8s/epoch - 2ms/step\n",
      "Epoch 44/50\n",
      "5033/5033 - 8s - loss: 6.4087e-06 - 8s/epoch - 2ms/step\n",
      "Epoch 45/50\n",
      "5033/5033 - 8s - loss: 6.1285e-06 - 8s/epoch - 2ms/step\n",
      "Epoch 46/50\n",
      "5033/5033 - 8s - loss: 6.5542e-06 - 8s/epoch - 2ms/step\n",
      "Epoch 47/50\n",
      "5033/5033 - 8s - loss: 6.4135e-06 - 8s/epoch - 2ms/step\n",
      "Epoch 48/50\n",
      "5033/5033 - 8s - loss: 6.5349e-06 - 8s/epoch - 2ms/step\n",
      "Epoch 49/50\n",
      "5033/5033 - 8s - loss: 6.2785e-06 - 8s/epoch - 2ms/step\n",
      "Epoch 50/50\n",
      "5033/5033 - 8s - loss: 6.1167e-06 - 8s/epoch - 2ms/step\n",
      "  1/158 [..............................] - ETA: 1:19"
     ]
    },
    {
     "name": "stderr",
     "output_type": "stream",
     "text": [
      "2023-05-05 21:47:59.219781: I tensorflow/core/common_runtime/executor.cc:1197] [/device:CPU:0] (DEBUG INFO) Executor start aborting (this does not indicate an error and you can ignore this message): INVALID_ARGUMENT: You must feed a value for placeholder tensor 'gradients/split_2_grad/concat/split_2/split_dim' with dtype int32\n",
      "\t [[{{node gradients/split_2_grad/concat/split_2/split_dim}}]]\n",
      "2023-05-05 21:47:59.221113: I tensorflow/core/common_runtime/executor.cc:1197] [/device:CPU:0] (DEBUG INFO) Executor start aborting (this does not indicate an error and you can ignore this message): INVALID_ARGUMENT: You must feed a value for placeholder tensor 'gradients/split_grad/concat/split/split_dim' with dtype int32\n",
      "\t [[{{node gradients/split_grad/concat/split/split_dim}}]]\n",
      "2023-05-05 21:47:59.222627: I tensorflow/core/common_runtime/executor.cc:1197] [/device:CPU:0] (DEBUG INFO) Executor start aborting (this does not indicate an error and you can ignore this message): INVALID_ARGUMENT: You must feed a value for placeholder tensor 'gradients/split_1_grad/concat/split_1/split_dim' with dtype int32\n",
      "\t [[{{node gradients/split_1_grad/concat/split_1/split_dim}}]]\n"
     ]
    },
    {
     "name": "stdout",
     "output_type": "stream",
     "text": [
      "158/158 [==============================] - 1s 1ms/step\n",
      "40/40 [==============================] - 0s 1ms/step\n"
     ]
    }
   ],
   "source": [
    "# Reshape input to be [samples, time steps, features]\n",
    "X_train_lstm = np.reshape(X_train, (X_train.shape[0], 1, X_train.shape[1]))\n",
    "X_test_lstm = np.reshape(X_test, (X_test.shape[0], 1, X_test.shape[1]))\n",
    "\n",
    "lstm_model = Sequential()\n",
    "lstm_model.add(LSTM(50, input_shape=(1, look_back)))\n",
    "lstm_model.add(Dense(1))\n",
    "lstm_model.compile(loss='mean_squared_error', optimizer='adam')\n",
    "lstm_model.fit(X_train_lstm, y_train, epochs=50, batch_size=1, verbose=2)\n",
    "\n",
    "lstm_train_pred = lstm_model.predict(X_train_lstm)\n",
    "lstm_test_pred = lstm_model.predict(X_test_lstm)\n"
   ]
  },
  {
   "attachments": {},
   "cell_type": "markdown",
   "metadata": {},
   "source": [
    "Evaluation of performance of the models using MSE criterion"
   ]
  },
  {
   "cell_type": "code",
   "execution_count": 30,
   "metadata": {},
   "outputs": [
    {
     "name": "stdout",
     "output_type": "stream",
     "text": [
      "Linear Regression Train MSE: 3.340908827767843e-06\n",
      "Linear Regression Test MSE: 6.778111619042136e-05\n",
      "ARIMA Test MSE: 244.87267179238052\n",
      "LSTM Train MSE: 4.6040167694923265e-06\n",
      "LSTM Test MSE: 0.0008666636454953417\n"
     ]
    }
   ],
   "source": [
    "lr_train_mse = mean_squared_error(y_train, lr_train_pred)\n",
    "lr_test_mse = mean_squared_error(y_test, lr_test_pred)\n",
    "arima_test_mse = mean_squared_error(arima_test_data, arima_test_pred)\n",
    "lstm_train_mse = mean_squared_error(y_train, lstm_train_pred)\n",
    "lstm_test_mse = mean_squared_error(y_test, lstm_test_pred)\n",
    "\n",
    "print(\"Linear Regression Train MSE:\", lr_train_mse)\n",
    "print(\"Linear Regression Test MSE:\", lr_test_mse)\n",
    "print(\"ARIMA Test MSE:\", arima_test_mse)\n",
    "print(\"LSTM Train MSE:\", lstm_train_mse)\n",
    "print(\"LSTM Test MSE:\", lstm_test_mse)\n"
   ]
  },
  {
   "cell_type": "code",
   "execution_count": null,
   "metadata": {},
   "outputs": [],
   "source": []
  },
  {
   "attachments": {},
   "cell_type": "markdown",
   "metadata": {},
   "source": [
    "Ještě zkusíme GARCH model"
   ]
  },
  {
   "cell_type": "code",
   "execution_count": 31,
   "metadata": {},
   "outputs": [
    {
     "name": "stdout",
     "output_type": "stream",
     "text": [
      "Defaulting to user installation because normal site-packages is not writeable\n",
      "Collecting arch\n",
      "  Downloading arch-5.5.0-cp39-cp39-macosx_10_9_x86_64.whl (893 kB)\n",
      "\u001b[K     |████████████████████████████████| 893 kB 2.0 MB/s eta 0:00:01\n",
      "\u001b[?25hRequirement already satisfied: pandas>=1.0 in /Users/vojtechsikl/Library/Python/3.9/lib/python/site-packages (from arch) (1.5.3)\n",
      "Requirement already satisfied: statsmodels>=0.11 in /Users/vojtechsikl/Library/Python/3.9/lib/python/site-packages (from arch) (0.14.0)\n",
      "Requirement already satisfied: numpy>=1.17 in /Users/vojtechsikl/Library/Python/3.9/lib/python/site-packages (from arch) (1.23.5)\n",
      "Collecting property-cached>=1.6.4\n",
      "  Downloading property_cached-1.6.4-py2.py3-none-any.whl (7.8 kB)\n",
      "Requirement already satisfied: scipy>=1.3 in /Users/vojtechsikl/Library/Python/3.9/lib/python/site-packages (from arch) (1.10.1)\n",
      "Requirement already satisfied: python-dateutil>=2.8.1 in /Users/vojtechsikl/Library/Python/3.9/lib/python/site-packages (from pandas>=1.0->arch) (2.8.2)\n",
      "Requirement already satisfied: pytz>=2020.1 in /Users/vojtechsikl/Library/Python/3.9/lib/python/site-packages (from pandas>=1.0->arch) (2022.7.1)\n",
      "Requirement already satisfied: six>=1.5 in /Library/Developer/CommandLineTools/Library/Frameworks/Python3.framework/Versions/3.9/lib/python3.9/site-packages (from python-dateutil>=2.8.1->pandas>=1.0->arch) (1.15.0)\n",
      "Requirement already satisfied: packaging>=21.3 in /Users/vojtechsikl/Library/Python/3.9/lib/python/site-packages (from statsmodels>=0.11->arch) (23.0)\n",
      "Requirement already satisfied: patsy>=0.5.2 in /Users/vojtechsikl/Library/Python/3.9/lib/python/site-packages (from statsmodels>=0.11->arch) (0.5.3)\n",
      "Installing collected packages: property-cached, arch\n",
      "Successfully installed arch-5.5.0 property-cached-1.6.4\n",
      "\u001b[33mWARNING: You are using pip version 21.2.4; however, version 23.1.2 is available.\n",
      "You should consider upgrading via the '/Library/Developer/CommandLineTools/usr/bin/python3 -m pip install --upgrade pip' command.\u001b[0m\n",
      "Note: you may need to restart the kernel to use updated packages.\n"
     ]
    }
   ],
   "source": [
    "pip install arch\n"
   ]
  },
  {
   "cell_type": "code",
   "execution_count": 34,
   "metadata": {},
   "outputs": [],
   "source": [
    "from arch import arch_model\n"
   ]
  },
  {
   "cell_type": "code",
   "execution_count": 36,
   "metadata": {},
   "outputs": [
    {
     "name": "stdout",
     "output_type": "stream",
     "text": [
      "Iteration:      1,   Func. Count:      6,   Neg. LLF: 5.706383715390837e+20\n",
      "Iteration:      2,   Func. Count:     19,   Neg. LLF: 7.172559723248327e+18\n",
      "Iteration:      3,   Func. Count:     31,   Neg. LLF: 79723022734.93533\n",
      "Iteration:      4,   Func. Count:     45,   Neg. LLF: 8825484005.794767\n",
      "Iteration:      5,   Func. Count:     60,   Neg. LLF: 12666.892012210368\n",
      "Iteration:      6,   Func. Count:     69,   Neg. LLF: 921852806.210372\n",
      "Iteration:      7,   Func. Count:     80,   Neg. LLF: -11073.855691822979\n",
      "Optimization terminated successfully    (Exit mode 0)\n",
      "            Current function value: -11073.855681193692\n",
      "            Iterations: 11\n",
      "            Function evaluations: 80\n",
      "            Gradient evaluations: 7\n"
     ]
    }
   ],
   "source": [
    "# Assuming you have already downloaded the stock data using the download_stock_data function\n",
    "stock_data = download_stock_data(ticker, start_date, end_date)\n",
    "\n",
    "# Create a 'returns' column\n",
    "stock_data['returns'] = stock_data['Close'].pct_change().dropna()\n",
    "\n",
    "# Split the data into training and testing sets\n",
    "train_data, test_data = train_test_split(stock_data['returns'].dropna(), test_size=0.2, shuffle=False)\n",
    "\n",
    "# Fit the GARCH model\n",
    "model_garch = arch_model(train_data, vol='Garch', p=1, q=1, rescale= False)\n",
    "results_garch = model_garch.fit()\n"
   ]
  },
  {
   "attachments": {},
   "cell_type": "markdown",
   "metadata": {},
   "source": [
    "GARCH konvergoval, ale nevím co to znamená lol"
   ]
  },
  {
   "cell_type": "markdown",
   "metadata": {},
   "source": []
  }
 ],
 "metadata": {
  "kernelspec": {
   "display_name": "Python 3",
   "language": "python",
   "name": "python3"
  },
  "language_info": {
   "codemirror_mode": {
    "name": "ipython",
    "version": 3
   },
   "file_extension": ".py",
   "mimetype": "text/x-python",
   "name": "python",
   "nbconvert_exporter": "python",
   "pygments_lexer": "ipython3",
   "version": "3.9.6"
  },
  "orig_nbformat": 4
 },
 "nbformat": 4,
 "nbformat_minor": 2
}
