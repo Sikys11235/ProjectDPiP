{
 "cells": [
  {
   "cell_type": "code",
   "execution_count": 1,
   "metadata": {},
   "outputs": [
    {
     "name": "stdout",
     "output_type": "stream",
     "text": [
      "ok\n"
     ]
    }
   ],
   "source": [
    "print(\"ok\")"
   ]
  },
  {
   "cell_type": "markdown",
   "metadata": {},
   "source": []
  },
  {
   "attachments": {},
   "cell_type": "markdown",
   "metadata": {},
   "source": [
    "API Download"
   ]
  },
  {
   "cell_type": "code",
   "execution_count": 2,
   "metadata": {},
   "outputs": [
    {
     "name": "stdout",
     "output_type": "stream",
     "text": [
      "Defaulting to user installation because normal site-packages is not writeable\n",
      "Requirement already satisfied: requests in /Users/vojtechsikl/Library/Python/3.9/lib/python/site-packages (2.28.2)\n",
      "Requirement already satisfied: certifi>=2017.4.17 in /Users/vojtechsikl/Library/Python/3.9/lib/python/site-packages (from requests) (2022.12.7)\n",
      "Requirement already satisfied: charset-normalizer<4,>=2 in /Users/vojtechsikl/Library/Python/3.9/lib/python/site-packages (from requests) (3.1.0)\n",
      "Requirement already satisfied: idna<4,>=2.5 in /Users/vojtechsikl/Library/Python/3.9/lib/python/site-packages (from requests) (3.4)\n",
      "Requirement already satisfied: urllib3<1.27,>=1.21.1 in /Users/vojtechsikl/Library/Python/3.9/lib/python/site-packages (from requests) (1.26.15)\n",
      "\u001b[33mWARNING: You are using pip version 21.2.4; however, version 23.1.2 is available.\n",
      "You should consider upgrading via the '/Library/Developer/CommandLineTools/usr/bin/python3 -m pip install --upgrade pip' command.\u001b[0m\n",
      "Note: you may need to restart the kernel to use updated packages.\n"
     ]
    }
   ],
   "source": [
    "pip install requests\n"
   ]
  },
  {
   "cell_type": "code",
   "execution_count": 3,
   "metadata": {},
   "outputs": [],
   "source": [
    "import requests\n",
    "import pandas as pd\n",
    "from io import StringIO"
   ]
  },
  {
   "attachments": {},
   "cell_type": "markdown",
   "metadata": {},
   "source": [
    "end date by mohl být dnešek\n",
    "start date fix\n",
    "fool-proof input \n",
    "\n"
   ]
  },
  {
   "attachments": {},
   "cell_type": "markdown",
   "metadata": {},
   "source": [
    "Apple (AAPL): 7.28%\n",
    "Microsoft (MSFT): 6.60%\n",
    "Amazon (AMZN): 2.68%\n",
    "NVIDIA (NVDA): 2.02%\n",
    "Alphabet Class A (GOOGL): 1.82%\n",
    "Berkshire Hathaway (BRK.B): 1.70%\n",
    "Alphabet Class C (GOOG): 1.60%\n",
    "Meta (META), formerly Facebook, Class A: 1.55%\n",
    "UnitedHealth Group (UNH): 1.34%\n",
    "Exxon Mobil (XOM): 1.32%\n",
    "Johnson & Johnson (JNJ): 1.25%\n",
    "Tesla (TSLA): 1.25%\n",
    "JPMorgan Chase (JPM): 1.18%\n",
    "Procter & Gamble (PG): 1.07%\n",
    "Visa Class A (V): 1.07%\n",
    "Eli Lilly (LLY): 0.93%\n",
    "Mastercard Class A (MA): 0.92%\n",
    "Home Depot (HD): 0.87%\n",
    "Merck (MRK): 0.87%\n",
    "Chevron Corporation (CVX): 0.83%\n",
    "AbbVie (ABBV): 0.78%\n",
    "PepsiCo (PEP): 0.77%\n",
    "Broadcom (AVGO): 0.74%\n",
    "Coca-Cola Company (KO): 0.72%\n",
    "Costco (COST): 0.64%"
   ]
  },
  {
   "cell_type": "code",
   "execution_count": 9,
   "metadata": {},
   "outputs": [],
   "source": [
    "popular_stocks = {\n",
    "    'AAPL': 'Apple Inc.',\n",
    "    'MSFT': 'Microsoft Corporation',\n",
    "    'AMZN': 'Amazon.com, Inc.',\n",
    "    'GOOGL': 'Alphabet Inc.',\n",
    "    'FB': 'Facebook, Inc.',\n",
    "    'BRK-B': 'Berkshire Hathaway Inc.',\n",
    "    'V': 'Visa Inc.',\n",
    "    'TSLA': 'Tesla, Inc.',\n",
    "    'JPM': 'JPMorgan Chase & Co.',\n",
    "    'JNJ': 'Johnson & Johnson',\n",
    "    \"PG\" : \"Procter and Gamble\",\n",
    "    \"MA\" : \"Mastercard Class A\",\n",
    "    \"MRK\" : \"Merck\",\n",
    "    \"KO\" : \"Coca-Cola Company\",\n",
    "    \"NVDA\" :\"NVIDIA\"\n",
    "    \n",
    "}"
   ]
  },
  {
   "cell_type": "code",
   "execution_count": 6,
   "metadata": {},
   "outputs": [],
   "source": [
    "def download_stock_data(ticker, start_date, end_date):\n",
    "    base_url = \"https://query1.finance.yahoo.com/v7/finance/download/\"\n",
    "    start_date_timestamp = int(pd.Timestamp(start_date).timestamp())\n",
    "    end_date_timestamp = int(pd.Timestamp(end_date).timestamp())\n",
    "    params = {\n",
    "        'period1': start_date_timestamp,\n",
    "        'period2': end_date_timestamp,\n",
    "        'interval': '1d',\n",
    "        'events': 'history',\n",
    "        'includeAdjustedClose': 'true'\n",
    "    }\n",
    "    \n",
    "    url = f\"{base_url}{ticker}\"\n",
    "    response = requests.get(url, params=params)\n",
    "\n",
    "    if response.status_code == 200:\n",
    "        stock_data = pd.read_csv(StringIO(response.text))\n",
    "        return stock_data\n",
    "    else:\n",
    "        print(\"Error fetching data:\", response.status_code)\n",
    "        return None\n",
    "\n"
   ]
  },
  {
   "cell_type": "code",
   "execution_count": 10,
   "metadata": {},
   "outputs": [
    {
     "name": "stdout",
     "output_type": "stream",
     "text": [
      "Popular stock tickers:\n",
      "AAPL: Apple Inc.\n",
      "MSFT: Microsoft Corporation\n",
      "AMZN: Amazon.com, Inc.\n",
      "GOOGL: Alphabet Inc.\n",
      "FB: Facebook, Inc.\n",
      "BRK-B: Berkshire Hathaway Inc.\n",
      "V: Visa Inc.\n",
      "TSLA: Tesla, Inc.\n",
      "JPM: JPMorgan Chase & Co.\n",
      "JNJ: Johnson & Johnson\n",
      "PG: Procter and Gamble\n",
      "MA: Mastercard Class A\n",
      "MRK: Merck\n",
      "KO: Coca-Cola Company\n",
      "NVDA: NVIDIA\n"
     ]
    }
   ],
   "source": [
    "print(\"Popular stock tickers:\")\n",
    "for ticker, company in popular_stocks.items():\n",
    "    print(f\"{ticker}: {company}\")\n"
   ]
  },
  {
   "cell_type": "code",
   "execution_count": 11,
   "metadata": {},
   "outputs": [
    {
     "name": "stdout",
     "output_type": "stream",
     "text": [
      "Error fetching data: 403\n",
      "None\n"
     ]
    }
   ],
   "source": [
    "ticker = input(\"Enter the stock ticker from the list above: \")\n",
    "end_date = input(\"Enter the end date (YYYY-MM-DD): \")\n",
    "\n",
    "# Validate the ticker input\n",
    "if ticker not in popular_stocks:\n",
    "    print(\"Error: Invalid ticker. Please choose a ticker from the list of popular stocks.\")\n",
    "else:\n",
    "    # Set the start date to January 1, 1995\n",
    "    start_date = \"1995-01-01\"\n",
    "\n",
    "    stock_data = download_stock_data(ticker, start_date, end_date)\n",
    "    print(stock_data)\n"
   ]
  },
  {
   "cell_type": "code",
   "execution_count": null,
   "metadata": {},
   "outputs": [],
   "source": []
  },
  {
   "attachments": {},
   "cell_type": "markdown",
   "metadata": {},
   "source": [
    "#######################\n",
    "Yfinance"
   ]
  },
  {
   "cell_type": "code",
   "execution_count": 12,
   "metadata": {},
   "outputs": [
    {
     "name": "stdout",
     "output_type": "stream",
     "text": [
      "Defaulting to user installation because normal site-packages is not writeable\n",
      "Collecting yfinance\n",
      "  Downloading yfinance-0.2.18-py2.py3-none-any.whl (60 kB)\n",
      "\u001b[K     |████████████████████████████████| 60 kB 1.8 MB/s eta 0:00:01\n",
      "\u001b[?25hRequirement already satisfied: pytz>=2022.5 in /Users/vojtechsikl/Library/Python/3.9/lib/python/site-packages (from yfinance) (2022.7.1)\n",
      "Requirement already satisfied: pandas>=1.3.0 in /Users/vojtechsikl/Library/Python/3.9/lib/python/site-packages (from yfinance) (1.5.3)\n",
      "Requirement already satisfied: numpy>=1.16.5 in /Users/vojtechsikl/Library/Python/3.9/lib/python/site-packages (from yfinance) (1.24.2)\n",
      "Collecting appdirs>=1.4.4\n",
      "  Downloading appdirs-1.4.4-py2.py3-none-any.whl (9.6 kB)\n",
      "Collecting multitasking>=0.0.7\n",
      "  Downloading multitasking-0.0.11-py3-none-any.whl (8.5 kB)\n",
      "Collecting beautifulsoup4>=4.11.1\n",
      "  Downloading beautifulsoup4-4.12.2-py3-none-any.whl (142 kB)\n",
      "\u001b[K     |████████████████████████████████| 142 kB 2.0 MB/s eta 0:00:01\n",
      "\u001b[?25hRequirement already satisfied: requests>=2.26 in /Users/vojtechsikl/Library/Python/3.9/lib/python/site-packages (from yfinance) (2.28.2)\n",
      "Collecting cryptography>=3.3.2\n",
      "  Downloading cryptography-40.0.2-cp36-abi3-macosx_10_12_x86_64.whl (2.8 MB)\n",
      "\u001b[K     |████████████████████████████████| 2.8 MB 2.2 MB/s eta 0:00:01\n",
      "\u001b[?25hCollecting lxml>=4.9.1\n",
      "  Downloading lxml-4.9.2-cp39-cp39-macosx_10_15_x86_64.whl (4.8 MB)\n",
      "\u001b[K     |████████████████████████████████| 4.8 MB 9.0 MB/s eta 0:00:01     |█▉                              | 276 kB 2.4 MB/s eta 0:00:02     |█████████████████████▉          | 3.3 MB 2.4 MB/s eta 0:00:01\n",
      "\u001b[?25hCollecting frozendict>=2.3.4\n",
      "  Downloading frozendict-2.3.8-cp39-cp39-macosx_10_9_x86_64.whl (36 kB)\n",
      "Collecting html5lib>=1.1\n",
      "  Downloading html5lib-1.1-py2.py3-none-any.whl (112 kB)\n",
      "\u001b[K     |████████████████████████████████| 112 kB 4.7 MB/s eta 0:00:01\n",
      "\u001b[?25hCollecting soupsieve>1.2\n",
      "  Downloading soupsieve-2.4.1-py3-none-any.whl (36 kB)\n",
      "Collecting cffi>=1.12\n",
      "  Downloading cffi-1.15.1-cp39-cp39-macosx_10_9_x86_64.whl (179 kB)\n",
      "\u001b[K     |████████████████████████████████| 179 kB 1.9 MB/s eta 0:00:01\n",
      "\u001b[?25hCollecting pycparser\n",
      "  Downloading pycparser-2.21-py2.py3-none-any.whl (118 kB)\n",
      "\u001b[K     |████████████████████████████████| 118 kB 1.3 MB/s eta 0:00:01     |█████▌                          | 20 kB 3.0 MB/s eta 0:00:01\n",
      "\u001b[?25hRequirement already satisfied: six>=1.9 in /Library/Developer/CommandLineTools/Library/Frameworks/Python3.framework/Versions/3.9/lib/python3.9/site-packages (from html5lib>=1.1->yfinance) (1.15.0)\n",
      "Collecting webencodings\n",
      "  Downloading webencodings-0.5.1-py2.py3-none-any.whl (11 kB)\n",
      "Requirement already satisfied: python-dateutil>=2.8.1 in /Users/vojtechsikl/Library/Python/3.9/lib/python/site-packages (from pandas>=1.3.0->yfinance) (2.8.2)\n",
      "Requirement already satisfied: idna<4,>=2.5 in /Users/vojtechsikl/Library/Python/3.9/lib/python/site-packages (from requests>=2.26->yfinance) (3.4)\n",
      "Requirement already satisfied: charset-normalizer<4,>=2 in /Users/vojtechsikl/Library/Python/3.9/lib/python/site-packages (from requests>=2.26->yfinance) (3.1.0)\n",
      "Requirement already satisfied: urllib3<1.27,>=1.21.1 in /Users/vojtechsikl/Library/Python/3.9/lib/python/site-packages (from requests>=2.26->yfinance) (1.26.15)\n",
      "Requirement already satisfied: certifi>=2017.4.17 in /Users/vojtechsikl/Library/Python/3.9/lib/python/site-packages (from requests>=2.26->yfinance) (2022.12.7)\n",
      "Installing collected packages: pycparser, webencodings, soupsieve, cffi, multitasking, lxml, html5lib, frozendict, cryptography, beautifulsoup4, appdirs, yfinance\n",
      "Successfully installed appdirs-1.4.4 beautifulsoup4-4.12.2 cffi-1.15.1 cryptography-40.0.2 frozendict-2.3.8 html5lib-1.1 lxml-4.9.2 multitasking-0.0.11 pycparser-2.21 soupsieve-2.4.1 webencodings-0.5.1 yfinance-0.2.18\n",
      "\u001b[33mWARNING: You are using pip version 21.2.4; however, version 23.1.2 is available.\n",
      "You should consider upgrading via the '/Library/Developer/CommandLineTools/usr/bin/python3 -m pip install --upgrade pip' command.\u001b[0m\n",
      "Note: you may need to restart the kernel to use updated packages.\n"
     ]
    }
   ],
   "source": [
    "pip install yfinance\n"
   ]
  },
  {
   "cell_type": "markdown",
   "metadata": {},
   "source": []
  },
  {
   "cell_type": "code",
   "execution_count": 13,
   "metadata": {},
   "outputs": [],
   "source": [
    "import yfinance as yf\n",
    "import pandas as pd\n"
   ]
  },
  {
   "cell_type": "code",
   "execution_count": 14,
   "metadata": {},
   "outputs": [],
   "source": [
    "def download_stock_data(ticker, start_date, end_date):\n",
    "    stock = yf.Ticker(ticker)\n",
    "    stock_data = stock.history(start=start_date, end=end_date)\n",
    "    return stock_data\n"
   ]
  },
  {
   "cell_type": "code",
   "execution_count": 15,
   "metadata": {},
   "outputs": [
    {
     "name": "stdout",
     "output_type": "stream",
     "text": [
      "Popular stock tickers:\n",
      "AAPL: Apple Inc.\n",
      "MSFT: Microsoft Corporation\n",
      "AMZN: Amazon.com, Inc.\n",
      "GOOGL: Alphabet Inc.\n",
      "FB: Facebook, Inc.\n",
      "BRK-B: Berkshire Hathaway Inc.\n",
      "V: Visa Inc.\n",
      "TSLA: Tesla, Inc.\n",
      "JPM: JPMorgan Chase & Co.\n",
      "JNJ: Johnson & Johnson\n"
     ]
    }
   ],
   "source": [
    "popular_stocks = {\n",
    "    'AAPL': 'Apple Inc.',\n",
    "    'MSFT': 'Microsoft Corporation',\n",
    "    'AMZN': 'Amazon.com, Inc.',\n",
    "    'GOOGL': 'Alphabet Inc.',\n",
    "    'FB': 'Facebook, Inc.',\n",
    "    'BRK-B': 'Berkshire Hathaway Inc.',\n",
    "    'V': 'Visa Inc.',\n",
    "    'TSLA': 'Tesla, Inc.',\n",
    "    'JPM': 'JPMorgan Chase & Co.',\n",
    "    'JNJ': 'Johnson & Johnson',\n",
    "    # Add more stocks as needed\n",
    "}\n",
    "\n",
    "print(\"Popular stock tickers:\")\n",
    "for ticker, company in popular_stocks.items():\n",
    "    print(f\"{ticker}: {company}\")\n"
   ]
  },
  {
   "cell_type": "code",
   "execution_count": 17,
   "metadata": {},
   "outputs": [
    {
     "name": "stdout",
     "output_type": "stream",
     "text": [
      "                                Open       High        Low      Close  \\\n",
      "Date                                                                    \n",
      "1995-01-03 00:00:00-05:00   0.292087   0.292087   0.284574   0.288331   \n",
      "1995-01-04 00:00:00-05:00   0.290209   0.297723   0.290209   0.295844   \n",
      "1995-01-05 00:00:00-05:00   0.294904   0.295844   0.291148   0.292087   \n",
      "1995-01-06 00:00:00-05:00   0.312749   0.324020   0.308993   0.315567   \n",
      "1995-01-09 00:00:00-05:00   0.312749   0.314628   0.308053   0.309579   \n",
      "...                              ...        ...        ...        ...   \n",
      "2019-12-24 00:00:00-05:00  69.619818  69.668730  69.186974  69.517105   \n",
      "2019-12-26 00:00:00-05:00  69.651579  70.913437  69.622234  70.896317   \n",
      "2019-12-27 00:00:00-05:00  71.192225  71.889183  70.458587  70.869423   \n",
      "2019-12-30 00:00:00-05:00  70.786283  71.576169  69.749410  71.290047   \n",
      "2019-12-31 00:00:00-05:00  70.901217  71.818264  70.800952  71.810928   \n",
      "\n",
      "                               Volume  Dividends  Stock Splits  \n",
      "Date                                                            \n",
      "1995-01-03 00:00:00-05:00   103868800        0.0           0.0  \n",
      "1995-01-04 00:00:00-05:00   158681600        0.0           0.0  \n",
      "1995-01-05 00:00:00-05:00    73640000        0.0           0.0  \n",
      "1995-01-06 00:00:00-05:00  1076622400        0.0           0.0  \n",
      "1995-01-09 00:00:00-05:00   274086400        0.0           0.0  \n",
      "...                               ...        ...           ...  \n",
      "2019-12-24 00:00:00-05:00    48478800        0.0           0.0  \n",
      "2019-12-26 00:00:00-05:00    93121200        0.0           0.0  \n",
      "2019-12-27 00:00:00-05:00   146266000        0.0           0.0  \n",
      "2019-12-30 00:00:00-05:00   144114400        0.0           0.0  \n",
      "2019-12-31 00:00:00-05:00   100805600        0.0           0.0  \n",
      "\n",
      "[6294 rows x 7 columns]\n"
     ]
    }
   ],
   "source": [
    "ticker = input(\"Enter the stock ticker from the list above: \")\n",
    "end_date = input(\"Enter the end date (YYYY-MM-DD): \")\n",
    "\n",
    "# Validate the ticker input\n",
    "if ticker not in popular_stocks:\n",
    "    print(\"Error: Invalid ticker. Please choose a ticker from the list of popular stocks.\")\n",
    "else:\n",
    "    # Set the start date to January 1, 1995\n",
    "    start_date = \"1995-01-01\"\n",
    "\n",
    "    stock_data = download_stock_data(ticker, start_date, end_date)\n",
    "    print(stock_data)\n"
   ]
  },
  {
   "cell_type": "code",
   "execution_count": null,
   "metadata": {},
   "outputs": [],
   "source": []
  }
 ],
 "metadata": {
  "kernelspec": {
   "display_name": "Python 3",
   "language": "python",
   "name": "python3"
  },
  "language_info": {
   "codemirror_mode": {
    "name": "ipython",
    "version": 3
   },
   "file_extension": ".py",
   "mimetype": "text/x-python",
   "name": "python",
   "nbconvert_exporter": "python",
   "pygments_lexer": "ipython3",
   "version": "3.9.6"
  },
  "orig_nbformat": 4
 },
 "nbformat": 4,
 "nbformat_minor": 2
}
