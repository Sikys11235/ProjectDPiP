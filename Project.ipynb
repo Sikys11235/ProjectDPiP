{
 "cells": [
  {
   "attachments": {},
   "cell_type": "markdown",
   "metadata": {},
   "source": [
    "Apple (AAPL): 7.28%\n",
    "Microsoft (MSFT): 6.60%\n",
    "Amazon (AMZN): 2.68%\n",
    "NVIDIA (NVDA): 2.02%\n",
    "Alphabet Class A (GOOGL): 1.82%\n",
    "Berkshire Hathaway (BRK.B): 1.70%\n",
    "Alphabet Class C (GOOG): 1.60%\n",
    "Meta (META), formerly Facebook, Class A: 1.55%\n",
    "UnitedHealth Group (UNH): 1.34%\n",
    "Exxon Mobil (XOM): 1.32%\n",
    "Johnson & Johnson (JNJ): 1.25%\n",
    "Tesla (TSLA): 1.25%\n",
    "JPMorgan Chase (JPM): 1.18%\n",
    "Procter & Gamble (PG): 1.07%\n",
    "Visa Class A (V): 1.07%\n",
    "Eli Lilly (LLY): 0.93%\n",
    "Mastercard Class A (MA): 0.92%\n",
    "Home Depot (HD): 0.87%\n",
    "Merck (MRK): 0.87%\n",
    "Chevron Corporation (CVX): 0.83%\n",
    "AbbVie (ABBV): 0.78%\n",
    "PepsiCo (PEP): 0.77%\n",
    "Broadcom (AVGO): 0.74%\n",
    "Coca-Cola Company (KO): 0.72%\n",
    "Costco (COST): 0.64%"
   ]
  },
  {
   "cell_type": "code",
   "execution_count": 4,
   "metadata": {},
   "outputs": [],
   "source": [
    "popular_stocks = {\n",
    "    'AAPL': 'Apple Inc.',\n",
    "    'MSFT': 'Microsoft Corporation',\n",
    "    'AMZN': 'Amazon.com, Inc.',\n",
    "    'GOOGL': 'Alphabet Inc.',\n",
    "    'FB': 'Facebook, Inc.',\n",
    "    'BRK-B': 'Berkshire Hathaway Inc.',\n",
    "    'V': 'Visa Inc.',\n",
    "    'TSLA': 'Tesla, Inc.',\n",
    "    'JPM': 'JPMorgan Chase & Co.',\n",
    "    'JNJ': 'Johnson & Johnson',\n",
    "    \"PG\" : \"Procter and Gamble\",\n",
    "    \"MA\" : \"Mastercard Class A\",\n",
    "    \"MRK\" : \"Merck\",\n",
    "    \"KO\" : \"Coca-Cola Company\",\n",
    "    \"NVDA\" :\"NVIDIA\" \n",
    "}"
   ]
  },
  {
   "attachments": {},
   "cell_type": "markdown",
   "metadata": {},
   "source": [
    "#######################\n",
    "Yfinance"
   ]
  },
  {
   "cell_type": "code",
   "execution_count": 1,
   "metadata": {},
   "outputs": [
    {
     "name": "stdout",
     "output_type": "stream",
     "text": [
      "Requirement already satisfied: yfinance in c:\\users\\ourri\\anaconda3\\lib\\site-packages (0.2.18)Note: you may need to restart the kernel to use updated packages.\n"
     ]
    },
    {
     "name": "stderr",
     "output_type": "stream",
     "text": [
      "\n",
      "[notice] A new release of pip is available: 23.1.2 -> 23.2.1\n",
      "[notice] To update, run: python.exe -m pip install --upgrade pip\n"
     ]
    },
    {
     "name": "stdout",
     "output_type": "stream",
     "text": [
      "\n",
      "Requirement already satisfied: pandas>=1.3.0 in c:\\users\\ourri\\anaconda3\\lib\\site-packages (from yfinance) (1.4.4)\n",
      "Requirement already satisfied: numpy>=1.16.5 in c:\\users\\ourri\\anaconda3\\lib\\site-packages (from yfinance) (1.23.5)\n",
      "Requirement already satisfied: requests>=2.26 in c:\\users\\ourri\\anaconda3\\lib\\site-packages (from yfinance) (2.28.1)\n",
      "Requirement already satisfied: multitasking>=0.0.7 in c:\\users\\ourri\\anaconda3\\lib\\site-packages (from yfinance) (0.0.11)\n",
      "Requirement already satisfied: lxml>=4.9.1 in c:\\users\\ourri\\anaconda3\\lib\\site-packages (from yfinance) (4.9.1)\n",
      "Requirement already satisfied: appdirs>=1.4.4 in c:\\users\\ourri\\anaconda3\\lib\\site-packages (from yfinance) (1.4.4)\n",
      "Requirement already satisfied: pytz>=2022.5 in c:\\users\\ourri\\anaconda3\\lib\\site-packages (from yfinance) (2023.3)\n",
      "Requirement already satisfied: frozendict>=2.3.4 in c:\\users\\ourri\\anaconda3\\lib\\site-packages (from yfinance) (2.3.8)\n",
      "Requirement already satisfied: cryptography>=3.3.2 in c:\\users\\ourri\\anaconda3\\lib\\site-packages (from yfinance) (37.0.1)\n",
      "Requirement already satisfied: beautifulsoup4>=4.11.1 in c:\\users\\ourri\\anaconda3\\lib\\site-packages (from yfinance) (4.11.1)\n",
      "Requirement already satisfied: html5lib>=1.1 in c:\\users\\ourri\\anaconda3\\lib\\site-packages (from yfinance) (1.1)\n",
      "Requirement already satisfied: soupsieve>1.2 in c:\\users\\ourri\\anaconda3\\lib\\site-packages (from beautifulsoup4>=4.11.1->yfinance) (2.3.1)\n",
      "Requirement already satisfied: cffi>=1.12 in c:\\users\\ourri\\anaconda3\\lib\\site-packages (from cryptography>=3.3.2->yfinance) (1.15.1)\n",
      "Requirement already satisfied: six>=1.9 in c:\\users\\ourri\\anaconda3\\lib\\site-packages (from html5lib>=1.1->yfinance) (1.16.0)\n",
      "Requirement already satisfied: webencodings in c:\\users\\ourri\\anaconda3\\lib\\site-packages (from html5lib>=1.1->yfinance) (0.5.1)\n",
      "Requirement already satisfied: python-dateutil>=2.8.1 in c:\\users\\ourri\\anaconda3\\lib\\site-packages (from pandas>=1.3.0->yfinance) (2.8.2)\n",
      "Requirement already satisfied: charset-normalizer<3,>=2 in c:\\users\\ourri\\anaconda3\\lib\\site-packages (from requests>=2.26->yfinance) (2.0.4)\n",
      "Requirement already satisfied: idna<4,>=2.5 in c:\\users\\ourri\\anaconda3\\lib\\site-packages (from requests>=2.26->yfinance) (3.3)\n",
      "Requirement already satisfied: urllib3<1.27,>=1.21.1 in c:\\users\\ourri\\anaconda3\\lib\\site-packages (from requests>=2.26->yfinance) (1.26.11)\n",
      "Requirement already satisfied: certifi>=2017.4.17 in c:\\users\\ourri\\anaconda3\\lib\\site-packages (from requests>=2.26->yfinance) (2022.9.14)\n",
      "Requirement already satisfied: pycparser in c:\\users\\ourri\\anaconda3\\lib\\site-packages (from cffi>=1.12->cryptography>=3.3.2->yfinance) (2.21)\n"
     ]
    }
   ],
   "source": [
    "pip install yfinance\n"
   ]
  },
  {
   "cell_type": "markdown",
   "metadata": {},
   "source": []
  },
  {
   "cell_type": "code",
   "execution_count": 2,
   "metadata": {},
   "outputs": [],
   "source": [
    "import yfinance as yf\n",
    "import pandas as pd\n"
   ]
  },
  {
   "cell_type": "code",
   "execution_count": 3,
   "metadata": {},
   "outputs": [],
   "source": [
    "def download_stock_data(ticker, start_date, end_date):\n",
    "    stock = yf.Ticker(ticker)\n",
    "    stock_data = stock.history(start=start_date, end=end_date)\n",
    "    return stock_data\n"
   ]
  },
  {
   "cell_type": "code",
   "execution_count": 4,
   "metadata": {},
   "outputs": [
    {
     "name": "stdout",
     "output_type": "stream",
     "text": [
      "Popular stock tickers:\n",
      "AAPL: Apple Inc.\n",
      "MSFT: Microsoft Corporation\n",
      "AMZN: Amazon.com, Inc.\n",
      "GOOGL: Alphabet Inc.\n",
      "FB: Facebook, Inc.\n",
      "BRK-B: Berkshire Hathaway Inc.\n",
      "V: Visa Inc.\n",
      "TSLA: Tesla, Inc.\n",
      "JPM: JPMorgan Chase & Co.\n",
      "JNJ: Johnson & Johnson\n"
     ]
    }
   ],
   "source": [
    "popular_stocks = {\n",
    "    'AAPL': 'Apple Inc.',\n",
    "    'MSFT': 'Microsoft Corporation',\n",
    "    'AMZN': 'Amazon.com, Inc.',\n",
    "    'GOOGL': 'Alphabet Inc.',\n",
    "    'FB': 'Facebook, Inc.',\n",
    "    'BRK-B': 'Berkshire Hathaway Inc.',\n",
    "    'V': 'Visa Inc.',\n",
    "    'TSLA': 'Tesla, Inc.',\n",
    "    'JPM': 'JPMorgan Chase & Co.',\n",
    "    'JNJ': 'Johnson & Johnson',\n",
    "    # Add more stocks as needed\n",
    "}\n",
    "\n",
    "print(\"Popular stock tickers:\")\n",
    "for ticker, company in popular_stocks.items():\n",
    "    print(f\"{ticker}: {company}\")\n"
   ]
  },
  {
   "cell_type": "code",
   "execution_count": 5,
   "metadata": {},
   "outputs": [
    {
     "name": "stdout",
     "output_type": "stream",
     "text": [
      "                                 Open        High         Low       Close  \\\n",
      "Date                                                                        \n",
      "2020-01-02 00:00:00-05:00  153.641607  155.528499  153.206173  155.422058   \n",
      "2020-01-03 00:00:00-05:00  153.196476  154.773716  152.944880  153.486755   \n",
      "2020-01-06 00:00:00-05:00  151.996623  153.951256  151.445062  153.883514   \n",
      "2020-01-07 00:00:00-05:00  154.164119  154.502783  152.228842  152.480423   \n",
      "2020-01-08 00:00:00-05:00  153.786746  155.596240  152.838465  154.909210   \n",
      "...                               ...         ...         ...         ...   \n",
      "2023-08-08 00:00:00-04:00  326.959991  328.750000  323.000000  326.049988   \n",
      "2023-08-09 00:00:00-04:00  326.470001  327.109985  321.049988  322.230011   \n",
      "2023-08-10 00:00:00-04:00  326.019989  328.260010  321.179993  322.929993   \n",
      "2023-08-11 00:00:00-04:00  320.260010  322.410004  319.209991  321.010010   \n",
      "2023-08-14 00:00:00-04:00  321.390015  324.059998  320.079987  324.040009   \n",
      "\n",
      "                             Volume  Dividends  Stock Splits  \n",
      "Date                                                          \n",
      "2020-01-02 00:00:00-05:00  22622100        0.0           0.0  \n",
      "2020-01-03 00:00:00-05:00  21116200        0.0           0.0  \n",
      "2020-01-06 00:00:00-05:00  20813700        0.0           0.0  \n",
      "2020-01-07 00:00:00-05:00  21634100        0.0           0.0  \n",
      "2020-01-08 00:00:00-05:00  27746500        0.0           0.0  \n",
      "...                             ...        ...           ...  \n",
      "2023-08-08 00:00:00-04:00  22327600        0.0           0.0  \n",
      "2023-08-09 00:00:00-04:00  22373300        0.0           0.0  \n",
      "2023-08-10 00:00:00-04:00  20113700        0.0           0.0  \n",
      "2023-08-11 00:00:00-04:00  24342600        0.0           0.0  \n",
      "2023-08-14 00:00:00-04:00  18836100        0.0           0.0  \n",
      "\n",
      "[910 rows x 7 columns]\n"
     ]
    }
   ],
   "source": [
    "ticker = input(\"Enter the stock ticker from the list above: \")\n",
    "end_date = input(\"Enter the end date (YYYY-MM-DD): \")\n",
    "\n",
    "# Validate the ticker input\n",
    "if ticker not in popular_stocks:\n",
    "    print(\"Error: Invalid ticker. Please choose a ticker from the list of popular stocks.\")\n",
    "else:\n",
    "    # Set the start date to January 1, 1995\n",
    "    start_date = \"2020-01-01\"\n",
    "\n",
    "    stock_data = download_stock_data(ticker, start_date, end_date)\n",
    "    print(stock_data)\n"
   ]
  },
  {
   "cell_type": "code",
   "execution_count": 6,
   "metadata": {},
   "outputs": [
    {
     "name": "stdout",
     "output_type": "stream",
     "text": [
      "Requirement already satisfied: scikit-learn in c:\\users\\ourri\\anaconda3\\lib\\site-packages (1.0.2)\n",
      "Requirement already satisfied: numpy>=1.14.6 in c:\\users\\ourri\\anaconda3\\lib\\site-packages (from scikit-learn) (1.23.5)\n",
      "Requirement already satisfied: scipy>=1.1.0 in c:\\users\\ourri\\anaconda3\\lib\\site-packages (from scikit-learn) (1.9.1)\n",
      "Requirement already satisfied: joblib>=0.11 in c:\\users\\ourri\\anaconda3\\lib\\site-packages (from scikit-learn) (1.1.0)\n",
      "Requirement already satisfied: threadpoolctl>=2.0.0 in c:\\users\\ourri\\anaconda3\\lib\\site-packages (from scikit-learn) (2.2.0)\n",
      "Note: you may need to restart the kernel to use updated packages.\n"
     ]
    },
    {
     "name": "stderr",
     "output_type": "stream",
     "text": [
      "\n",
      "[notice] A new release of pip is available: 23.1.2 -> 23.2.1\n",
      "[notice] To update, run: python.exe -m pip install --upgrade pip\n"
     ]
    }
   ],
   "source": [
    "pip install scikit-learn"
   ]
  },
  {
   "attachments": {},
   "cell_type": "markdown",
   "metadata": {},
   "source": [
    "###\n",
    "Here, we have preprocessed the data and prepared it for the implementation of ML algorithms"
   ]
  },
  {
   "cell_type": "code",
   "execution_count": 7,
   "metadata": {},
   "outputs": [],
   "source": [
    "import numpy as np\n",
    "from sklearn.preprocessing import MinMaxScaler\n"
   ]
  },
  {
   "cell_type": "code",
   "execution_count": 8,
   "metadata": {},
   "outputs": [
    {
     "name": "stdout",
     "output_type": "stream",
     "text": [
      "Missing values in the stock data:\n",
      "Open            0\n",
      "High            0\n",
      "Low             0\n",
      "Close           0\n",
      "Volume          0\n",
      "Dividends       0\n",
      "Stock Splits    0\n",
      "dtype: int64\n"
     ]
    }
   ],
   "source": [
    "print(\"Missing values in the stock data:\")\n",
    "print(stock_data.isnull().sum())\n"
   ]
  },
  {
   "cell_type": "code",
   "execution_count": 9,
   "metadata": {},
   "outputs": [],
   "source": [
    "stock_data.interpolate(method='linear', inplace=True)\n"
   ]
  },
  {
   "cell_type": "code",
   "execution_count": 10,
   "metadata": {},
   "outputs": [],
   "source": [
    "adj_close_prices = stock_data['Close'].values.reshape(-1, 1)\n",
    "\n",
    "scaler = MinMaxScaler(feature_range=(0, 1))\n",
    "scaled_adj_close_prices = scaler.fit_transform(adj_close_prices)\n"
   ]
  },
  {
   "attachments": {},
   "cell_type": "markdown",
   "metadata": {},
   "source": [
    "We will now split the data into training and testing sets"
   ]
  },
  {
   "cell_type": "code",
   "execution_count": 11,
   "metadata": {},
   "outputs": [
    {
     "name": "stdout",
     "output_type": "stream",
     "text": [
      "Requirement already satisfied: keras in c:\\users\\ourri\\anaconda3\\lib\\site-packages (2.12.0)\n",
      "Note: you may need to restart the kernel to use updated packages.\n"
     ]
    },
    {
     "name": "stderr",
     "output_type": "stream",
     "text": [
      "\n",
      "[notice] A new release of pip is available: 23.1.2 -> 23.2.1\n",
      "[notice] To update, run: python.exe -m pip install --upgrade pip\n"
     ]
    }
   ],
   "source": [
    "pip install keras"
   ]
  },
  {
   "cell_type": "code",
   "execution_count": 12,
   "metadata": {},
   "outputs": [
    {
     "name": "stdout",
     "output_type": "stream",
     "text": [
      "Requirement already satisfied: tensorflow in c:\\users\\ourri\\anaconda3\\lib\\site-packages (2.12.0)\n",
      "Requirement already satisfied: tensorflow-intel==2.12.0 in c:\\users\\ourri\\anaconda3\\lib\\site-packages (from tensorflow) (2.12.0)\n",
      "Requirement already satisfied: absl-py>=1.0.0 in c:\\users\\ourri\\anaconda3\\lib\\site-packages (from tensorflow-intel==2.12.0->tensorflow) (1.4.0)\n",
      "Requirement already satisfied: astunparse>=1.6.0 in c:\\users\\ourri\\anaconda3\\lib\\site-packages (from tensorflow-intel==2.12.0->tensorflow) (1.6.3)\n",
      "Requirement already satisfied: flatbuffers>=2.0 in c:\\users\\ourri\\anaconda3\\lib\\site-packages (from tensorflow-intel==2.12.0->tensorflow) (23.3.3)\n",
      "Requirement already satisfied: gast<=0.4.0,>=0.2.1 in c:\\users\\ourri\\anaconda3\\lib\\site-packages (from tensorflow-intel==2.12.0->tensorflow) (0.4.0)\n",
      "Requirement already satisfied: google-pasta>=0.1.1 in c:\\users\\ourri\\anaconda3\\lib\\site-packages (from tensorflow-intel==2.12.0->tensorflow) (0.2.0)\n",
      "Requirement already satisfied: h5py>=2.9.0 in c:\\users\\ourri\\anaconda3\\lib\\site-packages (from tensorflow-intel==2.12.0->tensorflow) (3.7.0)\n",
      "Requirement already satisfied: jax>=0.3.15 in c:\\users\\ourri\\anaconda3\\lib\\site-packages (from tensorflow-intel==2.12.0->tensorflow) (0.4.8)\n",
      "Requirement already satisfied: libclang>=13.0.0 in c:\\users\\ourri\\anaconda3\\lib\\site-packages (from tensorflow-intel==2.12.0->tensorflow) (16.0.0)\n",
      "Requirement already satisfied: numpy<1.24,>=1.22 in c:\\users\\ourri\\anaconda3\\lib\\site-packages (from tensorflow-intel==2.12.0->tensorflow) (1.23.5)\n",
      "Requirement already satisfied: opt-einsum>=2.3.2 in c:\\users\\ourri\\anaconda3\\lib\\site-packages (from tensorflow-intel==2.12.0->tensorflow) (3.3.0)\n",
      "Requirement already satisfied: packaging in c:\\users\\ourri\\anaconda3\\lib\\site-packages (from tensorflow-intel==2.12.0->tensorflow) (21.3)\n",
      "Requirement already satisfied: protobuf!=4.21.0,!=4.21.1,!=4.21.2,!=4.21.3,!=4.21.4,!=4.21.5,<5.0.0dev,>=3.20.3 in c:\\users\\ourri\\anaconda3\\lib\\site-packages (from tensorflow-intel==2.12.0->tensorflow) (4.22.4)\n",
      "Requirement already satisfied: setuptools in c:\\users\\ourri\\anaconda3\\lib\\site-packages (from tensorflow-intel==2.12.0->tensorflow) (63.4.1)\n",
      "Requirement already satisfied: six>=1.12.0 in c:\\users\\ourri\\anaconda3\\lib\\site-packages (from tensorflow-intel==2.12.0->tensorflow) (1.16.0)\n",
      "Requirement already satisfied: termcolor>=1.1.0 in c:\\users\\ourri\\anaconda3\\lib\\site-packages (from tensorflow-intel==2.12.0->tensorflow) (2.3.0)\n",
      "Requirement already satisfied: typing-extensions>=3.6.6 in c:\\users\\ourri\\anaconda3\\lib\\site-packages (from tensorflow-intel==2.12.0->tensorflow) (4.3.0)\n",
      "Requirement already satisfied: wrapt<1.15,>=1.11.0 in c:\\users\\ourri\\anaconda3\\lib\\site-packages (from tensorflow-intel==2.12.0->tensorflow) (1.14.1)\n",
      "Requirement already satisfied: grpcio<2.0,>=1.24.3 in c:\\users\\ourri\\anaconda3\\lib\\site-packages (from tensorflow-intel==2.12.0->tensorflow) (1.54.0)\n",
      "Requirement already satisfied: tensorboard<2.13,>=2.12 in c:\\users\\ourri\\anaconda3\\lib\\site-packages (from tensorflow-intel==2.12.0->tensorflow) (2.12.3)\n",
      "Requirement already satisfied: tensorflow-estimator<2.13,>=2.12.0 in c:\\users\\ourri\\anaconda3\\lib\\site-packages (from tensorflow-intel==2.12.0->tensorflow) (2.12.0)\n",
      "Requirement already satisfied: keras<2.13,>=2.12.0 in c:\\users\\ourri\\anaconda3\\lib\\site-packages (from tensorflow-intel==2.12.0->tensorflow) (2.12.0)\n",
      "Requirement already satisfied: tensorflow-io-gcs-filesystem>=0.23.1 in c:\\users\\ourri\\anaconda3\\lib\\site-packages (from tensorflow-intel==2.12.0->tensorflow) (0.31.0)\n",
      "Requirement already satisfied: wheel<1.0,>=0.23.0 in c:\\users\\ourri\\anaconda3\\lib\\site-packages (from astunparse>=1.6.0->tensorflow-intel==2.12.0->tensorflow) (0.37.1)\n",
      "Requirement already satisfied: ml-dtypes>=0.0.3 in c:\\users\\ourri\\anaconda3\\lib\\site-packages (from jax>=0.3.15->tensorflow-intel==2.12.0->tensorflow) (0.1.0)\n",
      "Requirement already satisfied: scipy>=1.7 in c:\\users\\ourri\\anaconda3\\lib\\site-packages (from jax>=0.3.15->tensorflow-intel==2.12.0->tensorflow) (1.9.1)\n",
      "Requirement already satisfied: google-auth<3,>=1.6.3 in c:\\users\\ourri\\anaconda3\\lib\\site-packages (from tensorboard<2.13,>=2.12->tensorflow-intel==2.12.0->tensorflow) (2.17.3)\n",
      "Requirement already satisfied: google-auth-oauthlib<1.1,>=0.5 in c:\\users\\ourri\\anaconda3\\lib\\site-packages (from tensorboard<2.13,>=2.12->tensorflow-intel==2.12.0->tensorflow) (1.0.0)\n",
      "Requirement already satisfied: markdown>=2.6.8 in c:\\users\\ourri\\anaconda3\\lib\\site-packages (from tensorboard<2.13,>=2.12->tensorflow-intel==2.12.0->tensorflow) (3.3.4)\n",
      "Requirement already satisfied: requests<3,>=2.21.0 in c:\\users\\ourri\\anaconda3\\lib\\site-packages (from tensorboard<2.13,>=2.12->tensorflow-intel==2.12.0->tensorflow) (2.28.1)\n",
      "Requirement already satisfied: tensorboard-data-server<0.8.0,>=0.7.0 in c:\\users\\ourri\\anaconda3\\lib\\site-packages (from tensorboard<2.13,>=2.12->tensorflow-intel==2.12.0->tensorflow) (0.7.0)\n",
      "Requirement already satisfied: werkzeug>=1.0.1 in c:\\users\\ourri\\anaconda3\\lib\\site-packages (from tensorboard<2.13,>=2.12->tensorflow-intel==2.12.0->tensorflow) (2.0.3)\n",
      "Requirement already satisfied: pyparsing!=3.0.5,>=2.0.2 in c:\\users\\ourri\\anaconda3\\lib\\site-packages (from packaging->tensorflow-intel==2.12.0->tensorflow) (3.0.9)\n",
      "Requirement already satisfied: cachetools<6.0,>=2.0.0 in c:\\users\\ourri\\anaconda3\\lib\\site-packages (from google-auth<3,>=1.6.3->tensorboard<2.13,>=2.12->tensorflow-intel==2.12.0->tensorflow) (5.3.0)\n",
      "Requirement already satisfied: pyasn1-modules>=0.2.1 in c:\\users\\ourri\\anaconda3\\lib\\site-packages (from google-auth<3,>=1.6.3->tensorboard<2.13,>=2.12->tensorflow-intel==2.12.0->tensorflow) (0.2.8)\n",
      "Requirement already satisfied: rsa<5,>=3.1.4 in c:\\users\\ourri\\anaconda3\\lib\\site-packages (from google-auth<3,>=1.6.3->tensorboard<2.13,>=2.12->tensorflow-intel==2.12.0->tensorflow) (4.9)\n",
      "Requirement already satisfied: requests-oauthlib>=0.7.0 in c:\\users\\ourri\\anaconda3\\lib\\site-packages (from google-auth-oauthlib<1.1,>=0.5->tensorboard<2.13,>=2.12->tensorflow-intel==2.12.0->tensorflow) (1.3.1)\n",
      "Requirement already satisfied: charset-normalizer<3,>=2 in c:\\users\\ourri\\anaconda3\\lib\\site-packages (from requests<3,>=2.21.0->tensorboard<2.13,>=2.12->tensorflow-intel==2.12.0->tensorflow) (2.0.4)\n",
      "Requirement already satisfied: idna<4,>=2.5 in c:\\users\\ourri\\anaconda3\\lib\\site-packages (from requests<3,>=2.21.0->tensorboard<2.13,>=2.12->tensorflow-intel==2.12.0->tensorflow) (3.3)\n",
      "Requirement already satisfied: urllib3<1.27,>=1.21.1 in c:\\users\\ourri\\anaconda3\\lib\\site-packages (from requests<3,>=2.21.0->tensorboard<2.13,>=2.12->tensorflow-intel==2.12.0->tensorflow) (1.26.11)\n",
      "Requirement already satisfied: certifi>=2017.4.17 in c:\\users\\ourri\\anaconda3\\lib\\site-packages (from requests<3,>=2.21.0->tensorboard<2.13,>=2.12->tensorflow-intel==2.12.0->tensorflow) (2022.9.14)\n",
      "Requirement already satisfied: pyasn1<0.5.0,>=0.4.6 in c:\\users\\ourri\\anaconda3\\lib\\site-packages (from pyasn1-modules>=0.2.1->google-auth<3,>=1.6.3->tensorboard<2.13,>=2.12->tensorflow-intel==2.12.0->tensorflow) (0.4.8)\n",
      "Requirement already satisfied: oauthlib>=3.0.0 in c:\\users\\ourri\\anaconda3\\lib\\site-packages (from requests-oauthlib>=0.7.0->google-auth-oauthlib<1.1,>=0.5->tensorboard<2.13,>=2.12->tensorflow-intel==2.12.0->tensorflow) (3.2.2)\n",
      "Note: you may need to restart the kernel to use updated packages.\n"
     ]
    },
    {
     "name": "stderr",
     "output_type": "stream",
     "text": [
      "\n",
      "[notice] A new release of pip is available: 23.1.2 -> 23.2.1\n",
      "[notice] To update, run: python.exe -m pip install --upgrade pip\n"
     ]
    }
   ],
   "source": [
    "pip install tensorflow"
   ]
  },
  {
   "cell_type": "code",
   "execution_count": 13,
   "metadata": {},
   "outputs": [
    {
     "name": "stdout",
     "output_type": "stream",
     "text": [
      "Requirement already satisfied: statsmodels in c:\\users\\ourri\\anaconda3\\lib\\site-packages (0.13.2)\n",
      "Requirement already satisfied: numpy>=1.17 in c:\\users\\ourri\\anaconda3\\lib\\site-packages (from statsmodels) (1.23.5)\n",
      "Requirement already satisfied: scipy>=1.3 in c:\\users\\ourri\\anaconda3\\lib\\site-packages (from statsmodels) (1.9.1)\n",
      "Requirement already satisfied: pandas>=0.25 in c:\\users\\ourri\\anaconda3\\lib\\site-packages (from statsmodels) (1.4.4)\n",
      "Requirement already satisfied: patsy>=0.5.2 in c:\\users\\ourri\\anaconda3\\lib\\site-packages (from statsmodels) (0.5.2)\n",
      "Requirement already satisfied: packaging>=21.3 in c:\\users\\ourri\\anaconda3\\lib\\site-packages (from statsmodels) (21.3)\n",
      "Requirement already satisfied: pyparsing!=3.0.5,>=2.0.2 in c:\\users\\ourri\\anaconda3\\lib\\site-packages (from packaging>=21.3->statsmodels) (3.0.9)\n",
      "Requirement already satisfied: python-dateutil>=2.8.1 in c:\\users\\ourri\\anaconda3\\lib\\site-packages (from pandas>=0.25->statsmodels) (2.8.2)\n",
      "Requirement already satisfied: pytz>=2020.1 in c:\\users\\ourri\\anaconda3\\lib\\site-packages (from pandas>=0.25->statsmodels) (2023.3)\n",
      "Requirement already satisfied: six in c:\\users\\ourri\\anaconda3\\lib\\site-packages (from patsy>=0.5.2->statsmodels) (1.16.0)\n",
      "Note: you may need to restart the kernel to use updated packages.\n"
     ]
    },
    {
     "name": "stderr",
     "output_type": "stream",
     "text": [
      "\n",
      "[notice] A new release of pip is available: 23.1.2 -> 23.2.1\n",
      "[notice] To update, run: python.exe -m pip install --upgrade pip\n"
     ]
    }
   ],
   "source": [
    "pip install statsmodels\n"
   ]
  },
  {
   "cell_type": "code",
   "execution_count": 14,
   "metadata": {},
   "outputs": [],
   "source": [
    "import numpy as np\n",
    "from sklearn.preprocessing import MinMaxScaler\n",
    "from sklearn.model_selection import train_test_split\n",
    "from sklearn.linear_model import LinearRegression\n",
    "from sklearn.metrics import mean_squared_error\n",
    "from statsmodels.tsa.arima.model import ARIMA\n",
    "from keras.models import Sequential\n",
    "from keras.layers import Dense, LSTM\n",
    "import matplotlib.pyplot as plt\n"
   ]
  },
  {
   "cell_type": "code",
   "execution_count": 15,
   "metadata": {},
   "outputs": [],
   "source": [
    "def create_dataset(data, look_back=1):\n",
    "    X, y = [], []\n",
    "    for i in range(len(data) - look_back - 1):\n",
    "        X.append(data[i:(i + look_back), 0])\n",
    "        y.append(data[i + look_back, 0])\n",
    "    return np.array(X), np.array(y)\n",
    "\n"
   ]
  },
  {
   "cell_type": "code",
   "execution_count": 16,
   "metadata": {},
   "outputs": [],
   "source": [
    "look_back = 1\n",
    "X, y = create_dataset(scaled_adj_close_prices, look_back)\n",
    "X_train, X_test, y_train, y_test = train_test_split(X, y, test_size=0.2, random_state=42, shuffle=False)\n"
   ]
  },
  {
   "cell_type": "code",
   "execution_count": 17,
   "metadata": {},
   "outputs": [],
   "source": [
    "lr_model = LinearRegression()\n",
    "lr_model.fit(X_train, y_train)\n",
    "\n",
    "lr_train_pred = lr_model.predict(X_train)\n",
    "lr_test_pred = lr_model.predict(X_test)\n"
   ]
  },
  {
   "cell_type": "code",
   "execution_count": 18,
   "metadata": {},
   "outputs": [],
   "source": [
    "arima_train_data = scaler.inverse_transform(y_train.reshape(-1, 1)).flatten()\n",
    "arima_test_data = scaler.inverse_transform(y_test.reshape(-1, 1)).flatten()\n",
    "\n",
    "arima_model = ARIMA(arima_train_data, order=(5, 1, 0))\n",
    "arima_model_fit = arima_model.fit()\n",
    "arima_test_pred = arima_model_fit.forecast(steps=len(y_test))\n"
   ]
  },
  {
   "attachments": {},
   "cell_type": "markdown",
   "metadata": {},
   "source": [
    "Tohle trvá tak 8 minut hehe"
   ]
  },
  {
   "cell_type": "code",
   "execution_count": 19,
   "metadata": {},
   "outputs": [
    {
     "name": "stdout",
     "output_type": "stream",
     "text": [
      "Epoch 1/50\n",
      "726/726 - 2s - loss: 0.0313 - 2s/epoch - 3ms/step\n",
      "Epoch 2/50\n",
      "726/726 - 1s - loss: 8.9659e-04 - 689ms/epoch - 949us/step\n",
      "Epoch 3/50\n",
      "726/726 - 1s - loss: 5.5958e-04 - 676ms/epoch - 932us/step\n",
      "Epoch 4/50\n",
      "726/726 - 1s - loss: 5.4952e-04 - 714ms/epoch - 983us/step\n",
      "Epoch 5/50\n",
      "726/726 - 1s - loss: 5.6118e-04 - 664ms/epoch - 915us/step\n",
      "Epoch 6/50\n",
      "726/726 - 1s - loss: 5.5933e-04 - 669ms/epoch - 921us/step\n",
      "Epoch 7/50\n",
      "726/726 - 1s - loss: 5.3979e-04 - 684ms/epoch - 943us/step\n",
      "Epoch 8/50\n",
      "726/726 - 1s - loss: 5.7109e-04 - 678ms/epoch - 934us/step\n",
      "Epoch 9/50\n",
      "726/726 - 1s - loss: 5.2695e-04 - 678ms/epoch - 934us/step\n",
      "Epoch 10/50\n",
      "726/726 - 1s - loss: 5.8590e-04 - 685ms/epoch - 943us/step\n",
      "Epoch 11/50\n",
      "726/726 - 1s - loss: 5.3856e-04 - 686ms/epoch - 945us/step\n",
      "Epoch 12/50\n",
      "726/726 - 1s - loss: 5.3850e-04 - 695ms/epoch - 957us/step\n",
      "Epoch 13/50\n",
      "726/726 - 1s - loss: 5.2010e-04 - 687ms/epoch - 946us/step\n",
      "Epoch 14/50\n",
      "726/726 - 1s - loss: 5.3933e-04 - 706ms/epoch - 973us/step\n",
      "Epoch 15/50\n",
      "726/726 - 1s - loss: 5.1604e-04 - 762ms/epoch - 1ms/step\n",
      "Epoch 16/50\n",
      "726/726 - 1s - loss: 5.2087e-04 - 701ms/epoch - 966us/step\n",
      "Epoch 17/50\n",
      "726/726 - 1s - loss: 5.6063e-04 - 687ms/epoch - 947us/step\n",
      "Epoch 18/50\n",
      "726/726 - 1s - loss: 5.3502e-04 - 693ms/epoch - 954us/step\n",
      "Epoch 19/50\n",
      "726/726 - 1s - loss: 5.2024e-04 - 697ms/epoch - 960us/step\n",
      "Epoch 20/50\n",
      "726/726 - 1s - loss: 5.6236e-04 - 704ms/epoch - 969us/step\n",
      "Epoch 21/50\n",
      "726/726 - 1s - loss: 5.5068e-04 - 697ms/epoch - 959us/step\n",
      "Epoch 22/50\n",
      "726/726 - 1s - loss: 5.2516e-04 - 683ms/epoch - 941us/step\n",
      "Epoch 23/50\n",
      "726/726 - 1s - loss: 5.1293e-04 - 691ms/epoch - 951us/step\n",
      "Epoch 24/50\n",
      "726/726 - 1s - loss: 5.1846e-04 - 680ms/epoch - 936us/step\n",
      "Epoch 25/50\n",
      "726/726 - 1s - loss: 5.2383e-04 - 707ms/epoch - 973us/step\n",
      "Epoch 26/50\n",
      "726/726 - 1s - loss: 5.1154e-04 - 684ms/epoch - 943us/step\n",
      "Epoch 27/50\n",
      "726/726 - 1s - loss: 5.1947e-04 - 711ms/epoch - 980us/step\n",
      "Epoch 28/50\n",
      "726/726 - 1s - loss: 5.1800e-04 - 671ms/epoch - 924us/step\n",
      "Epoch 29/50\n",
      "726/726 - 1s - loss: 5.3090e-04 - 692ms/epoch - 954us/step\n",
      "Epoch 30/50\n",
      "726/726 - 1s - loss: 5.2408e-04 - 673ms/epoch - 927us/step\n",
      "Epoch 31/50\n",
      "726/726 - 1s - loss: 5.0103e-04 - 683ms/epoch - 941us/step\n",
      "Epoch 32/50\n",
      "726/726 - 1s - loss: 5.1683e-04 - 658ms/epoch - 906us/step\n",
      "Epoch 33/50\n",
      "726/726 - 1s - loss: 5.3351e-04 - 675ms/epoch - 929us/step\n",
      "Epoch 34/50\n",
      "726/726 - 1s - loss: 5.3217e-04 - 675ms/epoch - 930us/step\n",
      "Epoch 35/50\n",
      "726/726 - 1s - loss: 5.1329e-04 - 675ms/epoch - 930us/step\n",
      "Epoch 36/50\n",
      "726/726 - 1s - loss: 5.1785e-04 - 671ms/epoch - 924us/step\n",
      "Epoch 37/50\n",
      "726/726 - 1s - loss: 5.1504e-04 - 664ms/epoch - 914us/step\n",
      "Epoch 38/50\n",
      "726/726 - 1s - loss: 5.0556e-04 - 707ms/epoch - 973us/step\n",
      "Epoch 39/50\n",
      "726/726 - 1s - loss: 5.2359e-04 - 712ms/epoch - 981us/step\n",
      "Epoch 40/50\n",
      "726/726 - 1s - loss: 5.3442e-04 - 665ms/epoch - 916us/step\n",
      "Epoch 41/50\n",
      "726/726 - 1s - loss: 5.3194e-04 - 672ms/epoch - 925us/step\n",
      "Epoch 42/50\n",
      "726/726 - 1s - loss: 5.1977e-04 - 721ms/epoch - 994us/step\n",
      "Epoch 43/50\n",
      "726/726 - 1s - loss: 4.9566e-04 - 696ms/epoch - 959us/step\n",
      "Epoch 44/50\n",
      "726/726 - 1s - loss: 5.3645e-04 - 666ms/epoch - 917us/step\n",
      "Epoch 45/50\n",
      "726/726 - 1s - loss: 5.2007e-04 - 681ms/epoch - 938us/step\n",
      "Epoch 46/50\n",
      "726/726 - 1s - loss: 5.2681e-04 - 678ms/epoch - 933us/step\n",
      "Epoch 47/50\n",
      "726/726 - 1s - loss: 5.0510e-04 - 670ms/epoch - 923us/step\n",
      "Epoch 48/50\n",
      "726/726 - 1s - loss: 4.9834e-04 - 774ms/epoch - 1ms/step\n",
      "Epoch 49/50\n",
      "726/726 - 1s - loss: 5.2833e-04 - 733ms/epoch - 1ms/step\n",
      "Epoch 50/50\n",
      "726/726 - 1s - loss: 5.1563e-04 - 678ms/epoch - 934us/step\n",
      "23/23 [==============================] - 0s 893us/step\n",
      "6/6 [==============================] - 0s 1ms/step\n"
     ]
    }
   ],
   "source": [
    "# Reshape input to be [samples, time steps, features]\n",
    "X_train_lstm = np.reshape(X_train, (X_train.shape[0], 1, X_train.shape[1]))\n",
    "X_test_lstm = np.reshape(X_test, (X_test.shape[0], 1, X_test.shape[1]))\n",
    "\n",
    "lstm_model = Sequential()\n",
    "lstm_model.add(LSTM(50, input_shape=(1, look_back)))\n",
    "lstm_model.add(Dense(1))\n",
    "lstm_model.compile(loss='mean_squared_error', optimizer='adam')\n",
    "lstm_model.fit(X_train_lstm, y_train, epochs=50, batch_size=1, verbose=2)\n",
    "\n",
    "lstm_train_pred = lstm_model.predict(X_train_lstm)\n",
    "lstm_test_pred = lstm_model.predict(X_test_lstm)\n"
   ]
  },
  {
   "attachments": {},
   "cell_type": "markdown",
   "metadata": {},
   "source": [
    "Evaluation of performance of the models using MSE criterion"
   ]
  },
  {
   "cell_type": "code",
   "execution_count": 20,
   "metadata": {},
   "outputs": [
    {
     "name": "stdout",
     "output_type": "stream",
     "text": [
      "Linear Regression Train MSE: 0.00043900543227233253\n",
      "Linear Regression Test MSE: 0.00048044603367613527\n",
      "ARIMA Test MSE: 3594.492998943183\n",
      "LSTM Train MSE: 0.0004617936840217409\n",
      "LSTM Test MSE: 0.0005368813907499049\n"
     ]
    }
   ],
   "source": [
    "lr_train_mse = mean_squared_error(y_train, lr_train_pred)\n",
    "lr_test_mse = mean_squared_error(y_test, lr_test_pred)\n",
    "arima_test_mse = mean_squared_error(arima_test_data, arima_test_pred)\n",
    "lstm_train_mse = mean_squared_error(y_train, lstm_train_pred)\n",
    "lstm_test_mse = mean_squared_error(y_test, lstm_test_pred)\n",
    "\n",
    "print(\"Linear Regression Train MSE:\", lr_train_mse)\n",
    "print(\"Linear Regression Test MSE:\", lr_test_mse)\n",
    "print(\"ARIMA Test MSE:\", arima_test_mse)\n",
    "print(\"LSTM Train MSE:\", lstm_train_mse)\n",
    "print(\"LSTM Test MSE:\", lstm_test_mse)\n"
   ]
  },
  {
   "cell_type": "code",
   "execution_count": null,
   "metadata": {},
   "outputs": [],
   "source": []
  },
  {
   "attachments": {},
   "cell_type": "markdown",
   "metadata": {},
   "source": [
    "Ještě zkusíme GARCH model"
   ]
  },
  {
   "cell_type": "code",
   "execution_count": 21,
   "metadata": {},
   "outputs": [
    {
     "name": "stdout",
     "output_type": "stream",
     "text": [
      "Requirement already satisfied: arch in c:\\users\\ourri\\anaconda3\\lib\\site-packages (5.5.0)Note: you may need to restart the kernel to use updated packages.\n",
      "\n",
      "Requirement already satisfied: numpy>=1.17 in c:\\users\\ourri\\anaconda3\\lib\\site-packages (from arch) (1.23.5)\n",
      "Requirement already satisfied: scipy>=1.3 in c:\\users\\ourri\\anaconda3\\lib\\site-packages (from arch) (1.9.1)\n",
      "Requirement already satisfied: pandas>=1.0 in c:\\users\\ourri\\anaconda3\\lib\\site-packages (from arch) (1.4.4)\n",
      "Requirement already satisfied: statsmodels>=0.11 in c:\\users\\ourri\\anaconda3\\lib\\site-packages (from arch) (0.13.2)\n",
      "Requirement already satisfied: property-cached>=1.6.4 in c:\\users\\ourri\\anaconda3\\lib\\site-packages (from arch) (1.6.4)\n",
      "Requirement already satisfied: python-dateutil>=2.8.1 in c:\\users\\ourri\\anaconda3\\lib\\site-packages (from pandas>=1.0->arch) (2.8.2)\n",
      "Requirement already satisfied: pytz>=2020.1 in c:\\users\\ourri\\anaconda3\\lib\\site-packages (from pandas>=1.0->arch) (2023.3)\n",
      "Requirement already satisfied: patsy>=0.5.2 in c:\\users\\ourri\\anaconda3\\lib\\site-packages (from statsmodels>=0.11->arch) (0.5.2)\n",
      "Requirement already satisfied: packaging>=21.3 in c:\\users\\ourri\\anaconda3\\lib\\site-packages (from statsmodels>=0.11->arch) (21.3)\n",
      "Requirement already satisfied: pyparsing!=3.0.5,>=2.0.2 in c:\\users\\ourri\\anaconda3\\lib\\site-packages (from packaging>=21.3->statsmodels>=0.11->arch) (3.0.9)\n",
      "Requirement already satisfied: six in c:\\users\\ourri\\anaconda3\\lib\\site-packages (from patsy>=0.5.2->statsmodels>=0.11->arch) (1.16.0)\n"
     ]
    },
    {
     "name": "stderr",
     "output_type": "stream",
     "text": [
      "\n",
      "[notice] A new release of pip is available: 23.1.2 -> 23.2.1\n",
      "[notice] To update, run: python.exe -m pip install --upgrade pip\n"
     ]
    }
   ],
   "source": [
    "pip install arch\n"
   ]
  },
  {
   "cell_type": "code",
   "execution_count": 22,
   "metadata": {},
   "outputs": [],
   "source": [
    "from arch import arch_model\n"
   ]
  },
  {
   "cell_type": "code",
   "execution_count": 23,
   "metadata": {},
   "outputs": [
    {
     "name": "stdout",
     "output_type": "stream",
     "text": [
      "Iteration:      1,   Func. Count:      6,   Neg. LLF: 90193945.53667566\n",
      "Iteration:      2,   Func. Count:     18,   Neg. LLF: 1688.1909962766538\n",
      "Iteration:      3,   Func. Count:     28,   Neg. LLF: 520086.2155825691\n",
      "Iteration:      4,   Func. Count:     37,   Neg. LLF: -1853.3987030012877\n",
      "Optimization terminated successfully    (Exit mode 0)\n",
      "            Current function value: -1853.3987037506513\n",
      "            Iterations: 8\n",
      "            Function evaluations: 37\n",
      "            Gradient evaluations: 4\n"
     ]
    }
   ],
   "source": [
    "# Assuming you have already downloaded the stock data using the download_stock_data function\n",
    "stock_data = download_stock_data(ticker, start_date, end_date)\n",
    "\n",
    "# Create a 'returns' column\n",
    "stock_data['returns'] = stock_data['Close'].pct_change().dropna()\n",
    "\n",
    "# Split the data into training and testing sets\n",
    "train_data, test_data = train_test_split(stock_data['returns'].dropna(), test_size=0.2, shuffle=False)\n",
    "\n",
    "# Fit the GARCH model\n",
    "model_garch = arch_model(train_data, vol='Garch', p=1, q=1, rescale= False)\n",
    "results_garch = model_garch.fit()\n"
   ]
  },
  {
   "cell_type": "markdown",
   "metadata": {},
   "source": []
  },
  {
   "cell_type": "code",
   "execution_count": 24,
   "metadata": {},
   "outputs": [
    {
     "name": "stderr",
     "output_type": "stream",
     "text": [
      "c:\\Users\\ourri\\anaconda3\\lib\\site-packages\\statsmodels\\tsa\\base\\tsa_model.py:471: ValueWarning: A date index has been provided, but it has no associated frequency information and so will be ignored when e.g. forecasting.\n",
      "  self._init_dates(dates, freq)\n",
      "c:\\Users\\ourri\\anaconda3\\lib\\site-packages\\statsmodels\\tsa\\base\\tsa_model.py:471: ValueWarning: A date index has been provided, but it has no associated frequency information and so will be ignored when e.g. forecasting.\n",
      "  self._init_dates(dates, freq)\n",
      "c:\\Users\\ourri\\anaconda3\\lib\\site-packages\\statsmodels\\tsa\\base\\tsa_model.py:471: ValueWarning: A date index has been provided, but it has no associated frequency information and so will be ignored when e.g. forecasting.\n",
      "  self._init_dates(dates, freq)\n",
      "c:\\Users\\ourri\\anaconda3\\lib\\site-packages\\statsmodels\\tsa\\base\\tsa_model.py:834: ValueWarning: No supported index is available. Prediction results will be given with an integer index beginning at `start`.\n",
      "  return get_prediction_index(\n"
     ]
    },
    {
     "data": {
      "text/plain": [
       "910   -0.006188\n",
       "911   -0.002771\n",
       "912   -0.001189\n",
       "913   -0.001256\n",
       "914   -0.000094\n",
       "Name: predicted_mean, dtype: float64"
      ]
     },
     "execution_count": 24,
     "metadata": {},
     "output_type": "execute_result"
    }
   ],
   "source": [
    "best_arima_model = ARIMA(stock_data['returns'], order=(5, 1, 0)).fit()\n",
    "future_forecast = best_arima_model.forecast(steps=5)\n",
    "future_forecast"
   ]
  },
  {
   "attachments": {},
   "cell_type": "markdown",
   "metadata": {},
   "source": [
    "Graf, nebo ještě jiný výstup?\n"
   ]
  }
 ],
 "metadata": {
  "kernelspec": {
   "display_name": "Python 3",
   "language": "python",
   "name": "python3"
  },
  "language_info": {
   "codemirror_mode": {
    "name": "ipython",
    "version": 3
   },
   "file_extension": ".py",
   "mimetype": "text/x-python",
   "name": "python",
   "nbconvert_exporter": "python",
   "pygments_lexer": "ipython3",
   "version": "3.9.6"
  },
  "orig_nbformat": 4
 },
 "nbformat": 4,
 "nbformat_minor": 2
}
